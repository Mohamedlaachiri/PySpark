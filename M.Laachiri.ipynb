{
 "cells": [
  {
   "cell_type": "code",
   "execution_count": 1,
   "id": "d8889e8e",
   "metadata": {
    "collapsed": true
   },
   "outputs": [],
   "source": [
    "# Mohamed Hosam Mohamed Laachiri sec5\n",
    "from pyspark.context import SparkContext\n",
    "from pyspark.sql.session import SparkSession\n",
    "from pyspark.sql.functions import lit\n",
    "sc = SparkContext('local')\n",
    "spark = SparkSession(sc)"
   ]
  },
  {
   "cell_type": "code",
   "execution_count": 2,
   "id": "6e371939",
   "metadata": {},
   "outputs": [],
   "source": [
    "KSA_GT_path=\"KSA_GT.csv\"\n",
    "KSA_MT_path=\"KSA_MT.csv\"\n",
    "QTR_MT_GT_path=\"QTR_MT_GT.csv\"\n",
    "UAE_MT_GT_path=\"UAE_MT_GT.csv\""
   ]
  },
  {
   "cell_type": "code",
   "execution_count": 3,
   "id": "384c1ffe",
   "metadata": {},
   "outputs": [],
   "source": [
    "KSA_GT=spark.read.options(header='True',delimiter=',').csv(KSA_GT_path)\n",
    "KSA_MT=spark.read.options(header='True',delimiter=',').csv(KSA_MT_path)\n",
    "QTR_MT_GT=spark.read.options(header='True',delimiter=',').csv(QTR_MT_GT_path)\n",
    "UAE_MT_GT=spark.read.options(header='True',delimiter=',').csv(UAE_MT_GT_path)"
   ]
  },
  {
   "cell_type": "code",
   "execution_count": 4,
   "id": "5960aca9",
   "metadata": {},
   "outputs": [],
   "source": [
    "KSA_GT=KSA_GT.na.drop('all')\n",
    "KSA_MT=KSA_MT.na.drop('all')\n",
    "QTR_MT_GT=QTR_MT_GT.na.drop('all')\n",
    "UAE_MT_GT=UAE_MT_GT.na.drop('all')"
   ]
  },
  {
   "cell_type": "code",
   "execution_count": 5,
   "id": "d0e5be10",
   "metadata": {},
   "outputs": [],
   "source": [
    "KSA_GT=KSA_GT.withColumnRenamed('Customer Number','Customer Code / Banner Code')\\\n",
    ".withColumnRenamed('PH Level 7 Code','CPG Code (PH 7)')\\\n",
    ".withColumnRenamed('PH Level 7 Desc','CPG Name (PH 7)')\\\n",
    ".withColumnRenamed('Stock','Stock on Hand Quantity')\\\n",
    ".withColumnRenamed('Packsize','Line Level')\\\n",
    ".withColumnRenamed('Pack size (g/ml)','Packsize')"
   ]
  },
  {
   "cell_type": "code",
   "execution_count": 6,
   "id": "e9007228",
   "metadata": {},
   "outputs": [],
   "source": [
    "KSA_GT=KSA_GT.withColumn(\"UL SKU Code\",lit(None))\\\n",
    ".withColumn(\"UL SKU Description\",lit(None))\\\n",
    ".withColumn(\"Price per UoM\",lit(None))\\\n",
    ".withColumn(\"Price Currency Code\",lit(None))\\\n",
    ".withColumn(\"Store Format\",lit(None))"
   ]
  },
  {
   "cell_type": "code",
   "execution_count": 7,
   "id": "040166e0",
   "metadata": {},
   "outputs": [
    {
     "name": "stdout",
     "output_type": "stream",
     "text": [
      "+------------------+-------+------+------+---------------------------+-------------+-------------+-----+--------------------+--------------------+--------------------+----------------------+---------------+---------------+---------------+--------+----+-----+----+-------+------------+-------------------------------+-------------------------+----+-----------+------------------+-------------+-------------------+------------+\n",
      "|           Channel|Month_1|  City|Region|Customer Code / Banner Code|Customer Name|        Brand|Big C|             Small C|                 CPG|          Line Level|Stock on Hand Quantity|Unit of Measure|CPG Code (PH 7)|CPG Name (PH 7)|Packsize|Year|Month|Week|Country|Trade Format|Stock Location (WH or In Store)|WH Location or Store Name|_c23|UL SKU Code|UL SKU Description|Price per UoM|Price Currency Code|Store Format|\n",
      "+------------------+-------+------+------+---------------------------+-------------+-------------+-----+--------------------+--------------------+--------------------+----------------------+---------------+---------------+---------------+--------+----+-----+----+-------+------------+-------------------------------+-------------------------+----+-----------+------------------+-------------+-------------------+------------+\n",
      "|Large Supermarkets| Jun'22|Khamis| South|                     610110|    ALGHONAIM|          AXE|   PC|DEODORANTS & FRAG...|AXE MALE DEO AERO...|AXE MALE DEO AERO...|                   288|             CS|              0|              0|       0|2022|    6|  27|    KSA|          GT|                             WH|                       WH|null|       null|              null|         null|               null|        null|\n",
      "|Large Supermarkets| Jun'22|Khamis| South|                     610110|    ALGHONAIM|    CLEAR MEN|  B&W|           HAIR CARE|  CLEAR MALE SHAMPOO|CLEAR MALE SHAMPO...|                    55|             CS|              0|              0|       0|2022|    6|  27|    KSA|          GT|                             WH|                       WH|null|       null|              null|         null|               null|        null|\n",
      "|Large Supermarkets| Jun'22|Khamis| South|                     610110|    ALGHONAIM|    CLEAR MEN|  B&W|           HAIR CARE|  CLEAR MALE SHAMPOO|CLEAR MALE SHAMPO...|                   199|             CS|              0|              0|       0|2022|    6|  27|    KSA|          GT|                             WH|                       WH|null|       null|              null|         null|               null|        null|\n",
      "|Large Supermarkets| Jun'22|Khamis| South|                     610110|    ALGHONAIM|    CLEAR MEN|  B&W|           HAIR CARE|  CLEAR MALE SHAMPOO|CLEAR MALE SHAMPO...|                   119|             CS|              0|              0|       0|2022|    6|  27|    KSA|          GT|                             WH|                       WH|null|       null|              null|         null|               null|        null|\n",
      "|Large Supermarkets| Jun'22|Khamis| South|                     610110|    ALGHONAIM|      COMFORT|   HC|    FABRIC ENHANCERS|COMFORT RINSE CON...|COMFORT RINSE CON...|                    10|             CS|              0|              0|       0|2022|    6|  27|    KSA|          GT|                             WH|                       WH|null|       null|              null|         null|               null|        null|\n",
      "|Large Supermarkets| Jun'22|Khamis| South|                     610110|    ALGHONAIM|      COMFORT|   HC|    FABRIC ENHANCERS|COMFORT RINSE CON...|COMFORT RINSE CON...|                    14|             CS|              0|              0|       0|2022|    6|  27|    KSA|          GT|                             WH|                       WH|null|       null|              null|         null|               null|        null|\n",
      "|Large Supermarkets| Jun'22|Khamis| South|                     610110|    ALGHONAIM|         DOVE|  B&W|           HAIR CARE|        DOVE SHAMPOO|  DOVE SHAMPOO 200ML|                    29|             CS|              0|              0|       0|2022|    6|  27|    KSA|          GT|                             WH|                       WH|null|       null|              null|         null|               null|        null|\n",
      "|Large Supermarkets| Jun'22|Khamis| South|                     610110|    ALGHONAIM|         DOVE|  B&W|           HAIR CARE|        DOVE SHAMPOO|  DOVE SHAMPOO 400ML|                   412|             CS|              0|              0|       0|2022|    6|  27|    KSA|          GT|                             WH|                       WH|null|       null|              null|         null|               null|        null|\n",
      "|Large Supermarkets| Jun'22|Khamis| South|                     610110|    ALGHONAIM|         DOVE|  B&W|           HAIR CARE|        DOVE SHAMPOO|  DOVE SHAMPOO 600ML|                   144|             CS|              0|              0|       0|2022|    6|  27|    KSA|          GT|                             WH|                       WH|null|       null|              null|         null|               null|        null|\n",
      "|Large Supermarkets| Jun'22|Khamis| South|                     610110|    ALGHONAIM|         DOVE|  B&W|           SKIN CARE|     DOVE BODY CREAM|DOVE BODY CREAM 1...|                    10|             CS|              0|              0|       0|2022|    6|  27|    KSA|          GT|                             WH|                       WH|null|       null|              null|         null|               null|        null|\n",
      "|Large Supermarkets| Jun'22|Khamis| South|                     610110|    ALGHONAIM|         DOVE|  B&W|           SKIN CARE|     DOVE BODY CREAM|DOVE BODY CREAM 2...|                    10|             CS|              0|              0|       0|2022|    6|  27|    KSA|          GT|                             WH|                       WH|null|       null|              null|         null|               null|        null|\n",
      "|Large Supermarkets| Jun'22|Khamis| South|                     610110|    ALGHONAIM|         DOVE|  B&W|           SKIN CARE|     DOVE BODY CREAM|DOVE BODY CREAM 75ML|                    98|             CS|              0|              0|       0|2022|    6|  27|    KSA|          GT|                             WH|                       WH|null|       null|              null|         null|               null|        null|\n",
      "|Large Supermarkets| Jun'22|Khamis| South|                     610110|    ALGHONAIM|         DOVE|   PC|DEODORANTS & FRAG...|    DOVE DEO AERO AP|DOVE DEO AERO AP ...|                   183|             CS|              0|              0|       0|2022|    6|  27|    KSA|          GT|                             WH|                       WH|null|       null|              null|         null|               null|        null|\n",
      "|Large Supermarkets| Jun'22|Khamis| South|                     610110|    ALGHONAIM|         DOVE|   PC|DEODORANTS & FRAG...| DOVE DEO ROLL-ON AP|DOVE DEO ROLL-ON ...|                    90|             CS|              0|              0|       0|2022|    6|  27|    KSA|          GT|                             WH|                       WH|null|       null|              null|         null|               null|        null|\n",
      "|Large Supermarkets| Jun'22|Khamis| South|                     610110|    ALGHONAIM|         DOVE|   PC|DEODORANTS & FRAG...|DOVE DEO SOLID/CR...|DOVE DEO SOLID/CR...|                    10|             CS|              0|              0|       0|2022|    6|  27|    KSA|          GT|                             WH|                       WH|null|       null|              null|         null|               null|        null|\n",
      "|Large Supermarkets| Jun'22|Khamis| South|                     610110|    ALGHONAIM|         DOVE|   PC|      SKIN CLEANSING|DOVE SKIN CLEANSI...|DOVE SKIN CLEANSI...|                    60|             CS|              0|              0|       0|2022|    6|  27|    KSA|          GT|                             WH|                       WH|null|       null|              null|         null|               null|        null|\n",
      "|Large Supermarkets| Jun'22|Khamis| South|                     610110|    ALGHONAIM|         DOVE|   PC|      SKIN CLEANSING|DOVE SKIN CLEANSI...|DOVE SKIN CLEANSI...|                   192|             CS|              0|              0|       0|2022|    6|  27|    KSA|          GT|                             WH|                       WH|null|       null|              null|         null|               null|        null|\n",
      "|Large Supermarkets| Jun'22|Khamis| South|                     610110|    ALGHONAIM|         DOVE|   PC|      SKIN CLEANSING|DOVE SKIN CLEANSI...|DOVE SKIN CLEANSI...|                     9|             CS|              0|              0|       0|2022|    6|  27|    KSA|          GT|                             WH|                       WH|null|       null|              null|         null|               null|        null|\n",
      "|Large Supermarkets| Jun'22|Khamis| South|                     610110|    ALGHONAIM|GLOW & LOVELY|  B&W|           SKIN CARE|GLOW & LOVELY FAC...|FAIR&LOVELY FACE ...|                   104|             CS|              0|              0|       0|2022|    6|  27|    KSA|          GT|                             WH|                       WH|null|       null|              null|         null|               null|        null|\n",
      "|Large Supermarkets| Jun'22|Khamis| South|                     610110|    ALGHONAIM|GLOW & LOVELY|  B&W|           SKIN CARE|GLOW & LOVELY FAC...|FAIR&LOVELY FACE ...|                    37|             CS|              0|              0|       0|2022|    6|  27|    KSA|          GT|                             WH|                       WH|null|       null|              null|         null|               null|        null|\n",
      "+------------------+-------+------+------+---------------------------+-------------+-------------+-----+--------------------+--------------------+--------------------+----------------------+---------------+---------------+---------------+--------+----+-----+----+-------+------------+-------------------------------+-------------------------+----+-----------+------------------+-------------+-------------------+------------+\n",
      "only showing top 20 rows\n",
      "\n"
     ]
    }
   ],
   "source": [
    "KSA_GT.show()"
   ]
  },
  {
   "cell_type": "code",
   "execution_count": 8,
   "id": "abf1934e",
   "metadata": {},
   "outputs": [],
   "source": [
    "KSA_MT=KSA_MT.withColumnRenamed('MONTH','Month')\\\n",
    ".withColumnRenamed('Customer Account / Banner Code','Customer Code / Banner Code')\\\n",
    ".withColumnRenamed('ACCOUNT','Customer Name')\\\n",
    ".withColumnRenamed('ACCOUNT LOCATION','Stock Location (WH or In Store)')\\\n",
    ".withColumnRenamed('STORE NAME','WH Location or Store Name')\\\n",
    ".withColumnRenamed('UL CODE','UL SKU Code')\\\n",
    ".withColumnRenamed('DESCRIPTION','UL SKU Description')\\\n",
    ".withColumnRenamed('QOH','Stock on Hand Quantity')\\\n",
    ".withColumnRenamed('UOM','Unit of Measure')\\\n",
    ".withColumnRenamed(' Price ','Price per UoM')\\\n",
    ".withColumnRenamed('Sales Price Currency Code','Price Currency Code')"
   ]
  },
  {
   "cell_type": "code",
   "execution_count": 9,
   "id": "28d5723e",
   "metadata": {},
   "outputs": [],
   "source": [
    "KSA_MT=KSA_MT.withColumn(\"CPG Code (PH 7)\",lit(None))\\\n",
    ".withColumn(\"CPG Name (PH 7)\",lit(None))\\\n",
    ".withColumn(\"Line Level\",lit(None))"
   ]
  },
  {
   "cell_type": "code",
   "execution_count": 10,
   "id": "126c9575",
   "metadata": {},
   "outputs": [
    {
     "name": "stdout",
     "output_type": "stream",
     "text": [
      "+------+-------------+-------------------------------+-------------+-------------------------+-------------+-----------+-----------+--------------------+----------------------+---------------+-------------+----------+--------+-----+-----+--------+--------+----+-----+----+-------+------------+---------------------------+-------------------+-------+---------------+--------------------+----+---------------+---------------+----------+\n",
      "|WEEK #|Customer Name|Stock Location (WH or In Store)|      STORE #|WH Location or Store Name|CUSTOMER CODE|     MASTER|UL SKU Code|  UL SKU Description|Stock on Hand Quantity|Unit of Measure|Price per UoM|    Value |Category|Brand|  CPG|Packsize|  MONTH_|Year|Month|Week|Country|Trade Format|Customer Code / Banner Code|Price Currency Code| Region|   Store Format|                 Key|_c28|CPG Code (PH 7)|CPG Name (PH 7)|Line Level|\n",
      "+------+-------------+-------------------------------+-------------+-------------------------+-------------+-----------+-----------+--------------------+----------------------+---------------+-------------+----------+--------+-----+-----+--------+--------+----+-----+----+-------+------------+---------------------------+-------------------+-------+---------------+--------------------+----+---------------+---------------+----------+\n",
      "|  WK45|   BIN DAWOOD|                      DC STOCKS|KA BIN DAWOOD|                 BDS-Whs |         null|M2001276700|   20012767|COMFORT STD LIQUI...|                  100 |            PCS|       29.25 | 2,925.00 |   #REF!|#REF!|#REF!|   #REF!|November|2022|   11|  45|    KSA|          MT|                     133376|                SAR|WESTERN|DC OR WAREHOUSE|KSAMT202211133376...|   1|           null|           null|      null|\n",
      "|  WK45|   BIN DAWOOD|                      DC STOCKS|KA BIN DAWOOD|                 BDS-Whs |         null|M2001277400|   20012774|COMFORT STD LIQUI...|                  -   |            PCS|        7.50 |      -   |   #REF!|#REF!|#REF!|   #REF!|November|2022|   11|  45|    KSA|          MT|                     133376|                SAR|WESTERN|DC OR WAREHOUSE|KSAMT202211133376...|   1|           null|           null|      null|\n",
      "|  WK45|   BIN DAWOOD|                      DC STOCKS|KA BIN DAWOOD|                 BDS-Whs |         null|M2001277500|   20012775|COMFORT STD LIQUI...|                  -   |            PCS|       15.50 |      -   |   #REF!|#REF!|#REF!|   #REF!|November|2022|   11|  45|    KSA|          MT|                     133376|                SAR|WESTERN|DC OR WAREHOUSE|KSAMT202211133376...|   1|           null|           null|      null|\n",
      "|  WK45|   BIN DAWOOD|                      DC STOCKS|KA BIN DAWOOD|                 BDS-Whs |         null|M2001277600|   20012776|COMFORT STD LIQUI...|                  -   |            PCS|       22.83 |      -   |   #REF!|#REF!|#REF!|   #REF!|November|2022|   11|  45|    KSA|          MT|                     133376|                SAR|WESTERN|DC OR WAREHOUSE|KSAMT202211133376...|   1|           null|           null|      null|\n",
      "|  WK45|   BIN DAWOOD|                      DC STOCKS|KA BIN DAWOOD|                 BDS-Whs |         null|M2001278200|   20008406|COMFORT STD LIQUI...|                   24 |            PCS|       22.83 |   548.00 |   #REF!|#REF!|#REF!|   #REF!|November|2022|   11|  45|    KSA|          MT|                     133376|                SAR|WESTERN|DC OR WAREHOUSE|KSAMT202211133376...|   1|           null|           null|      null|\n",
      "|  WK45|   BIN DAWOOD|                      DC STOCKS|KA BIN DAWOOD|                 BDS-Whs |         null|M2002420200|   20024202|CLOSE UP TH PST W...|                   12 |            PCS|       13.17 |   158.04 |   #REF!|#REF!|#REF!|   #REF!|November|2022|   11|  45|    KSA|          MT|                     133376|                SAR|WESTERN|DC OR WAREHOUSE|KSAMT202211133376...|   1|           null|           null|      null|\n",
      "|  WK45|   BIN DAWOOD|                      DC STOCKS|KA BIN DAWOOD|                 BDS-Whs |         null|M2003123200|   20031232|COMFORT CONC LIQU...|                  -   |            PCS|       20.78 |      -   |   #REF!|#REF!|#REF!|   #REF!|November|2022|   11|  45|    KSA|          MT|                     133376|                SAR|WESTERN|DC OR WAREHOUSE|KSAMT202211133376...|   1|           null|           null|      null|\n",
      "|  WK45|   BIN DAWOOD|                      DC STOCKS|KA BIN DAWOOD|                 BDS-Whs |         null|M2003123400|   20031234|COMFORT ESSENCE O...|                  -   |            PCS|       20.78 |      -   |   #REF!|#REF!|#REF!|   #REF!|November|2022|   11|  45|    KSA|          MT|                     133376|                SAR|WESTERN|DC OR WAREHOUSE|KSAMT202211133376...|   1|           null|           null|      null|\n",
      "|  WK45|   BIN DAWOOD|                      DC STOCKS|KA BIN DAWOOD|                 BDS-Whs |         null|M2004257800|   20042578|SUNSILK SHMP HAIR...|                  -   |            PCS|        8.75 |      -   |   #REF!|#REF!|#REF!|   #REF!|November|2022|   11|  45|    KSA|          MT|                     133376|                SAR|WESTERN|DC OR WAREHOUSE|KSAMT202211133376...|   1|           null|           null|      null|\n",
      "|  WK45|   BIN DAWOOD|                      DC STOCKS|KA BIN DAWOOD|                 BDS-Whs |         null|M2004297400|   20042974|DOVE PW BAR WHITE...|                  -   |            PCS|        3.68 |      -   |   #REF!|#REF!|#REF!|   #REF!|November|2022|   11|  45|    KSA|          MT|                     133376|                SAR|WESTERN|DC OR WAREHOUSE|KSAMT202211133376...|   1|           null|           null|      null|\n",
      "|  WK45|   BIN DAWOOD|                      DC STOCKS|KA BIN DAWOOD|                 BDS-Whs |         null|M2004299900|   20042999|DOVE PW BAR PINK 75G|                  -   |            PCS|        3.68 |      -   |   #REF!|#REF!|#REF!|   #REF!|November|2022|   11|  45|    KSA|          MT|                     133376|                SAR|WESTERN|DC OR WAREHOUSE|KSAMT202211133376...|   1|           null|           null|      null|\n",
      "|  WK45|   BIN DAWOOD|                      DC STOCKS|KA BIN DAWOOD|                 BDS-Whs |         null|M2004312200|   20043122|JIF ABR LIQUID WH...|                  -   |            PCS|       17.56 |      -   |   #REF!|#REF!|#REF!|   #REF!|November|2022|   11|  45|    KSA|          MT|                     133376|                SAR|WESTERN|DC OR WAREHOUSE|KSAMT202211133376...|   1|           null|           null|      null|\n",
      "|  WK45|   BIN DAWOOD|                      DC STOCKS|KA BIN DAWOOD|                 BDS-Whs |         null|M2004312500|   20043125|JIF ABR LIQUID LE...|                  -   |            PCS|       17.56 |      -   |   #REF!|#REF!|#REF!|   #REF!|November|2022|   11|  45|    KSA|          MT|                     133376|                SAR|WESTERN|DC OR WAREHOUSE|KSAMT202211133376...|   1|           null|           null|      null|\n",
      "|  WK45|   BIN DAWOOD|                      DC STOCKS|KA BIN DAWOOD|                 BDS-Whs |         null|M2004312600|   20043126|JIF ABR LIQUID LE...|                  -   |            PCS|       13.44 |      -   |   #REF!|#REF!|#REF!|   #REF!|November|2022|   11|  45|    KSA|          MT|                     133376|                SAR|WESTERN|DC OR WAREHOUSE|KSAMT202211133376...|   1|           null|           null|      null|\n",
      "|  WK45|   BIN DAWOOD|                      DC STOCKS|KA BIN DAWOOD|                 BDS-Whs |         null|M2004312700|   20043127|JIF ABR LIQUID WH...|                   64 |            PCS|       13.44 |   860.00 |   #REF!|#REF!|#REF!|   #REF!|November|2022|   11|  45|    KSA|          MT|                     133376|                SAR|WESTERN|DC OR WAREHOUSE|KSAMT202211133376...|   1|           null|           null|      null|\n",
      "|  WK45|   BIN DAWOOD|                      DC STOCKS|KA BIN DAWOOD|                 BDS-Whs |         null|M2007132900|   20071329|VASELINE PETROLEU...|                   24 |            PCS|       13.71 |   329.00 |   #REF!|#REF!|#REF!|   #REF!|November|2022|   11|  45|    KSA|          MT|                     133376|                SAR|WESTERN|DC OR WAREHOUSE|KSAMT202211133376...|   1|           null|           null|      null|\n",
      "|  WK45|   BIN DAWOOD|                      DC STOCKS|KA BIN DAWOOD|                 BDS-Whs |         null|M2007133000|   20071330|VASELINE PETROLEU...|                  -   |            PCS|       13.71 |      -   |   #REF!|#REF!|#REF!|   #REF!|November|2022|   11|  45|    KSA|          MT|                     133376|                SAR|WESTERN|DC OR WAREHOUSE|KSAMT202211133376...|   1|           null|           null|      null|\n",
      "|  WK45|   BIN DAWOOD|                      DC STOCKS|KA BIN DAWOOD|                 BDS-Whs |         null|M2007133600|   20071336|VASELINE PETROLEU...|                  -   |            PCS|        4.18 |      -   |   #REF!|#REF!|#REF!|   #REF!|November|2022|   11|  45|    KSA|          MT|                     133376|                SAR|WESTERN|DC OR WAREHOUSE|KSAMT202211133376...|   1|           null|           null|      null|\n",
      "|  WK45|   BIN DAWOOD|                      DC STOCKS|KA BIN DAWOOD|                 BDS-Whs |         null|M2007134100|   20029777|VASELINE JELLY AL...|                  336 |            PCS|        2.41 |   810.25 |   #REF!|#REF!|#REF!|   #REF!|November|2022|   11|  45|    KSA|          MT|                     133376|                SAR|WESTERN|DC OR WAREHOUSE|KSAMT202211133376...|   1|           null|           null|      null|\n",
      "|  WK45|   BIN DAWOOD|                      DC STOCKS|KA BIN DAWOOD|                 BDS-Whs |         null|M2007309600|   20073096|VASELINE HR TRMNT...|                  -   |            PCS|       10.89 |      -   |   #REF!|#REF!|#REF!|   #REF!|November|2022|   11|  45|    KSA|          MT|                     133376|                SAR|WESTERN|DC OR WAREHOUSE|KSAMT202211133376...|   1|           null|           null|      null|\n",
      "+------+-------------+-------------------------------+-------------+-------------------------+-------------+-----------+-----------+--------------------+----------------------+---------------+-------------+----------+--------+-----+-----+--------+--------+----+-----+----+-------+------------+---------------------------+-------------------+-------+---------------+--------------------+----+---------------+---------------+----------+\n",
      "only showing top 20 rows\n",
      "\n"
     ]
    }
   ],
   "source": [
    "KSA_MT.show()"
   ]
  },
  {
   "cell_type": "code",
   "execution_count": 11,
   "id": "2546249e",
   "metadata": {},
   "outputs": [],
   "source": [
    "UAE_MT_GT=UAE_MT_GT.withColumnRenamed('Customer Account / Banner Code','Customer Code / Banner Code')\\\n",
    ".withColumnRenamed('Customer','Customer Name')\\\n",
    ".withColumnRenamed('Store or Warehouse','Stock Location (WH or In Store)')\\\n",
    ".withColumnRenamed('Customer SKU Description','UL SKU Description')\\\n",
    ".withColumnRenamed('QOH (Volume)','Stock on Hand Quantity')\\\n",
    ".withColumnRenamed('UoM','Unit of Measure')\\\n",
    ".withColumnRenamed('Sales Value per Unit of Measure','Price per UoM')\\\n",
    ".withColumnRenamed('SKU','Line Level')\\\n",
    ".withColumnRenamed('Sales Value Currency','Price Currency Code')"
   ]
  },
  {
   "cell_type": "code",
   "execution_count": 12,
   "id": "d3b94d89",
   "metadata": {},
   "outputs": [],
   "source": [
    "UAE_MT_GT=UAE_MT_GT.withColumn(\"CPG Code (PH 7)\",lit(None))\\\n",
    ".withColumn(\"CPG Name (PH 7)\",lit(None))\\\n",
    ".withColumn(\"Packsize\",lit(None))\\\n",
    ".withColumn(\"Line Level\",lit(None))\\\n",
    ".withColumn(\"Region\",lit(None))"
   ]
  },
  {
   "cell_type": "code",
   "execution_count": 13,
   "id": "55db96ce",
   "metadata": {},
   "outputs": [
    {
     "name": "stdout",
     "output_type": "stream",
     "text": [
      "+----+-----+----+---------+-------+-------------+-------------------------+-------------------------------+-----------------+--------------------+-------------+---------+----------+---------------+----------+----------------------+-----------+------------------+-------------+--------------+------------------+----------------+--------+-------------+--------------------+-----------+-------+--------+-------------+----------------------+--------------------------+--------------------+----------+---------------------------+------------+-------+-------------+-------------------+-----------------+---------------+---------------+--------+----------+------+\n",
      "|Year|Month|Week|Frequency|Cluster|Customer Name|WH Location or Store Name|Stock Location (WH or In Store)|Customer SKU Code|  UL SKU Description|    Barcode #|Item Type|   Packing|Unit of Measure|QOH(Value)|Stock on Hand Quantity|UL SKU Code|UL Master SKU Code|UL PC BarCode| UL CS BarCode|             UL BG|      UL Small C|UL Brand|  UL CPG code|         UL CPG Name|    UL Type|Pc/Case|Case/Ton|Stock in Tons|Avg monthly sales Tons|Net Avg monthly sales Tons|Avg Wkly  sales Tons|Wkly cover|Customer Code / Banner Code|Trade Format|Country|Price per UoM|Price Currency Code|     Store Format|CPG Code (PH 7)|CPG Name (PH 7)|Packsize|Line Level|Region|\n",
      "+----+-----+----+---------+-------+-------------+-------------------------+-------------------------------+-----------------+--------------------+-------------+---------+----------+---------------+----------+----------------------+-----------+------------------+-------------+--------------+------------------+----------------+--------+-------------+--------------------+-----------+-------+--------+-------------+----------------------+--------------------------+--------------------+----------+---------------------------+------------+-------+-------------+-------------------+-----------------+---------------+---------------+--------+----------+------+\n",
      "|2022|    8|  35|  monthly|  Coops|  Union Coops|                  A Salma|                       In Store|           480871|SIMPLE CLEANSING ...|5011451103979|     null|     6x25s|            PCS|      null|           3.833333333|   67578042|       M6754568800|5011451103979|05011451307759|BEAUTY & WELLBEING|       FACE CARE|  SIMPLE|443439I73B144|SIMPLE FACIAL WAS...|    Regular|      6| 761.035|     0.005037|                  null|                      null|                null|      null|                     125180|          MT|    UAE|         null|               null|LARGE SUPERMARKET|           null|           null|    null|      null|  null|\n",
      "|2022|    8|  35|  monthly|  Coops|  Union Coops|          Al Barsha South|                       In Store|           480871|SIMPLE CLEANSING ...|5011451103979|     null|     6x25s|            PCS|      null|           1.833333333|   67578042|       M6754568800|5011451103979|05011451307759|BEAUTY & WELLBEING|       FACE CARE|  SIMPLE|443439I73B144|SIMPLE FACIAL WAS...|    Regular|      6| 761.035|     0.002409|                  null|                      null|                null|      null|                     125180|          MT|    UAE|         null|               null|LARGE SUPERMARKET|           null|           null|    null|      null|  null|\n",
      "|2022|    8|  35|  monthly|  Coops|  Union Coops|                 Al Towar|                       In Store|           480871|SIMPLE CLEANSING ...|5011451103979|     null|     6x25s|            PCS|      null|                   0.5|   67578042|       M6754568800|5011451103979|05011451307759|BEAUTY & WELLBEING|       FACE CARE|  SIMPLE|443439I73B144|SIMPLE FACIAL WAS...|    Regular|      6| 761.035|     0.000657|                  null|                      null|                null|      null|                     125180|          MT|    UAE|         null|               null|LARGE SUPERMARKET|           null|           null|    null|      null|  null|\n",
      "|2022|    8|  35|  monthly|  Coops|  Union Coops|                 Al Warqa|                       In Store|           480871|SIMPLE CLEANSING ...|5011451103979|     null|     6x25s|            PCS|      null|           0.333333333|   67578042|       M6754568800|5011451103979|05011451307759|BEAUTY & WELLBEING|       FACE CARE|  SIMPLE|443439I73B144|SIMPLE FACIAL WAS...|    Regular|      6| 761.035|     0.000438|                  null|                      null|                null|      null|                     125180|          MT|    UAE|         null|               null|LARGE SUPERMARKET|           null|           null|    null|      null|  null|\n",
      "|2022|    8|  35|  monthly|  Coops|  Union Coops|           Jumeirah First|                       In Store|           480871|SIMPLE CLEANSING ...|5011451103979|     null|     6x25s|            PCS|      null|                     1|   67578042|       M6754568800|5011451103979|05011451307759|BEAUTY & WELLBEING|       FACE CARE|  SIMPLE|443439I73B144|SIMPLE FACIAL WAS...|    Regular|      6| 761.035|     0.001314|                  null|                      null|                null|      null|                     125180|          MT|    UAE|         null|               null|LARGE SUPERMARKET|           null|           null|    null|      null|  null|\n",
      "|2022|    8|  35|  monthly|  Coops|  Union Coops|                   Mirdif|                       In Store|           480871|SIMPLE CLEANSING ...|5011451103979|     null|     6x25s|            PCS|      null|           4.833333333|   67578042|       M6754568800|5011451103979|05011451307759|BEAUTY & WELLBEING|       FACE CARE|  SIMPLE|443439I73B144|SIMPLE FACIAL WAS...|    Regular|      6| 761.035|     0.006351|                  null|                      null|                null|      null|                     125180|          MT|    UAE|         null|               null|LARGE SUPERMARKET|           null|           null|    null|      null|  null|\n",
      "|2022|    8|  35|  monthly|  Coops|  Union Coops|                 Abu Hail|                       In Store|           526268|ASSORTED SHEET MA...|6281006566798|     null|1x(3x21ml)|            PCS|      null|                   0.5|   68478436|       M6847843600|6281006566798|06281006567191|BEAUTY & WELLBEING|       FACE CARE|  SIMPLE|443439I73B146|SIMPLE FACIAL WAS...|Promo Packs|      4|3731.343|     0.000134|                  null|                      null|                null|      null|                     125180|          MT|    UAE|         null|               null|LARGE SUPERMARKET|           null|           null|    null|      null|  null|\n",
      "|2022|    8|  35|  monthly|  Coops|  Union Coops|                 Al Warqa|                       In Store|           526268|ASSORTED SHEET MA...|6281006566798|     null|1x(3x21ml)|            PCS|      null|                   0.5|   68478436|       M6847843600|6281006566798|06281006567191|BEAUTY & WELLBEING|       FACE CARE|  SIMPLE|443439I73B146|SIMPLE FACIAL WAS...|Promo Packs|      4|3731.343|     0.000134|                  null|                      null|                null|      null|                     125180|          MT|    UAE|         null|               null|LARGE SUPERMARKET|           null|           null|    null|      null|  null|\n",
      "|2022|    8|  35|  monthly|  Coops|  Union Coops|                   Barsha|                       In Store|           526268|ASSORTED SHEET MA...|6281006566798|     null|1x(3x21ml)|            PCS|      null|                     3|   68478436|       M6847843600|6281006566798|06281006567191|BEAUTY & WELLBEING|       FACE CARE|  SIMPLE|443439I73B146|SIMPLE FACIAL WAS...|Promo Packs|      4|3731.343|     0.000804|                  null|                      null|                null|      null|                     125180|          MT|    UAE|         null|               null|LARGE SUPERMARKET|           null|           null|    null|      null|  null|\n",
      "|2022|    8|  35|  monthly|  Coops|  Union Coops|                  Hamriya|                       In Store|           526268|ASSORTED SHEET MA...|6281006566798|     null|1x(3x21ml)|            PCS|      null|                   0.5|   68478436|       M6847843600|6281006566798|06281006567191|BEAUTY & WELLBEING|       FACE CARE|  SIMPLE|443439I73B146|SIMPLE FACIAL WAS...|Promo Packs|      4|3731.343|     0.000134|                  null|                      null|                null|      null|                     125180|          MT|    UAE|         null|               null|LARGE SUPERMARKET|           null|           null|    null|      null|  null|\n",
      "|2022|    8|  35|  monthly|  Coops|  Union Coops|                   Mirdif|                       In Store|           526268|ASSORTED SHEET MA...|6281006566798|     null|1x(3x21ml)|            PCS|      null|                     1|   68478436|       M6847843600|6281006566798|06281006567191|BEAUTY & WELLBEING|       FACE CARE|  SIMPLE|443439I73B146|SIMPLE FACIAL WAS...|Promo Packs|      4|3731.343|     0.000268|                  null|                      null|                null|      null|                     125180|          MT|    UAE|         null|               null|LARGE SUPERMARKET|           null|           null|    null|      null|  null|\n",
      "|2022|    8|  35|  monthly|  Coops|  Union Coops|                    Satwa|                       In Store|           526268|ASSORTED SHEET MA...|6281006566798|     null|1x(3x21ml)|            PCS|      null|                   1.5|   68478436|       M6847843600|6281006566798|06281006567191|BEAUTY & WELLBEING|       FACE CARE|  SIMPLE|443439I73B146|SIMPLE FACIAL WAS...|Promo Packs|      4|3731.343|     0.000402|                  null|                      null|                null|      null|                     125180|          MT|    UAE|         null|               null|LARGE SUPERMARKET|           null|           null|    null|      null|  null|\n",
      "|2022|    8|  35|  monthly|  Coops|  Union Coops|                Um Suqeim|                       In Store|           526268|ASSORTED SHEET MA...|6281006566798|     null|1x(3x21ml)|            PCS|      null|                   2.5|   68478436|       M6847843600|6281006566798|06281006567191|BEAUTY & WELLBEING|       FACE CARE|  SIMPLE|443439I73B146|SIMPLE FACIAL WAS...|Promo Packs|      4|3731.343|      0.00067|                  null|                      null|                null|      null|                     125180|          MT|    UAE|         null|               null|LARGE SUPERMARKET|           null|           null|    null|      null|  null|\n",
      "|2022|    8|  35|  monthly|  Coops|  Union Coops|                  A Salma|                       In Store|           495731|VASELINE PJELLY B...|6281006508040|     null|   72X50ml|            PCS|      null|                   0.5|   67830744|       M6783074400|6281006508040|06281006508033|BEAUTY & WELLBEING|HAND & BODY CARE|VASELINE|443440084B454|VASELINE BODY PET...|    Regular|     72| 326.797|      0.00153|                  null|                      null|                null|      null|                     125180|          MT|    UAE|         null|               null|LARGE SUPERMARKET|           null|           null|    null|      null|  null|\n",
      "|2022|    8|  35|  monthly|  Coops|  Union Coops|                 Abu Hail|                       In Store|           495731|VASELINE PJELLY B...|6281006508040|     null|   72X50ml|            PCS|      null|           0.541666667|   67830744|       M6783074400|6281006508040|06281006508033|BEAUTY & WELLBEING|HAND & BODY CARE|VASELINE|443440084B454|VASELINE BODY PET...|    Regular|     72| 326.797|    0.0016575|                  null|                      null|                null|      null|                     125180|          MT|    UAE|         null|               null|LARGE SUPERMARKET|           null|           null|    null|      null|  null|\n",
      "|2022|    8|  35|  monthly|  Coops|  Union Coops|                 Al Aweer|                       In Store|           495731|VASELINE PJELLY B...|6281006508040|     null|   72X50ml|            PCS|      null|                  0.75|   67830744|       M6783074400|6281006508040|06281006508033|BEAUTY & WELLBEING|HAND & BODY CARE|VASELINE|443440084B454|VASELINE BODY PET...|    Regular|     72| 326.797|     0.002295|                  null|                      null|                null|      null|                     125180|          MT|    UAE|         null|               null|LARGE SUPERMARKET|           null|           null|    null|      null|  null|\n",
      "|2022|    8|  35|  monthly|  Coops|  Union Coops|          Al Barsha South|                       In Store|           495731|VASELINE PJELLY B...|6281006508040|     null|   72X50ml|            PCS|      null|           1.444444444|   67830744|       M6783074400|6281006508040|06281006508033|BEAUTY & WELLBEING|HAND & BODY CARE|VASELINE|443440084B454|VASELINE BODY PET...|    Regular|     72| 326.797|      0.00442|                  null|                      null|                null|      null|                     125180|          MT|    UAE|         null|               null|LARGE SUPERMARKET|           null|           null|    null|      null|  null|\n",
      "|2022|    8|  35|  monthly|  Coops|  Union Coops|                  Al Qouz|                       In Store|           495731|VASELINE PJELLY B...|6281006508040|     null|   72X50ml|            PCS|      null|           0.347222222|   67830744|       M6783074400|6281006508040|06281006508033|BEAUTY & WELLBEING|HAND & BODY CARE|VASELINE|443440084B454|VASELINE BODY PET...|    Regular|     72| 326.797|    0.0010625|                  null|                      null|                null|      null|                     125180|          MT|    UAE|         null|               null|LARGE SUPERMARKET|           null|           null|    null|      null|  null|\n",
      "|2022|    8|  35|  monthly|  Coops|  Union Coops|            Al Tay Branch|                       In Store|           495731|VASELINE PJELLY B...|6281006508040|     null|   72X50ml|            PCS|      null|                 0.125|   67830744|       M6783074400|6281006508040|06281006508033|BEAUTY & WELLBEING|HAND & BODY CARE|VASELINE|443440084B454|VASELINE BODY PET...|    Regular|     72| 326.797|    0.0003825|                  null|                      null|                null|      null|                     125180|          MT|    UAE|         null|               null|LARGE SUPERMARKET|           null|           null|    null|      null|  null|\n",
      "|2022|    8|  35|  monthly|  Coops|  Union Coops|                 Al Towar|                       In Store|           495731|VASELINE PJELLY B...|6281006508040|     null|   72X50ml|            PCS|      null|           0.458333333|   67830744|       M6783074400|6281006508040|06281006508033|BEAUTY & WELLBEING|HAND & BODY CARE|VASELINE|443440084B454|VASELINE BODY PET...|    Regular|     72| 326.797|    0.0014025|                  null|                      null|                null|      null|                     125180|          MT|    UAE|         null|               null|LARGE SUPERMARKET|           null|           null|    null|      null|  null|\n",
      "+----+-----+----+---------+-------+-------------+-------------------------+-------------------------------+-----------------+--------------------+-------------+---------+----------+---------------+----------+----------------------+-----------+------------------+-------------+--------------+------------------+----------------+--------+-------------+--------------------+-----------+-------+--------+-------------+----------------------+--------------------------+--------------------+----------+---------------------------+------------+-------+-------------+-------------------+-----------------+---------------+---------------+--------+----------+------+\n",
      "only showing top 20 rows\n",
      "\n"
     ]
    }
   ],
   "source": [
    "UAE_MT_GT.show()"
   ]
  },
  {
   "cell_type": "code",
   "execution_count": 14,
   "id": "4887c91d",
   "metadata": {},
   "outputs": [],
   "source": [
    "QTR_MT_GT=QTR_MT_GT.withColumnRenamed('Customer Account / Banner Code','Customer Code / Banner Code')\\\n",
    ".withColumnRenamed('Customer','Customer Name')\\\n",
    ".withColumnRenamed('Store or Warehouse','Stock Location (WH or In Store)')\\\n",
    ".withColumnRenamed('Customer SKU Description','UL SKU Description')\\\n",
    ".withColumnRenamed('QOH (Volume)','Stock on Hand Quantity')\\\n",
    ".withColumnRenamed('UoM','Unit of Measure')\\\n",
    ".withColumnRenamed('Sales Value per Unit of Measure','Price per UoM')\\\n",
    ".withColumnRenamed('Sales Value Currency','Price Currency Code')"
   ]
  },
  {
   "cell_type": "code",
   "execution_count": 15,
   "id": "d14f28ed",
   "metadata": {},
   "outputs": [],
   "source": [
    "QTR_MT_GT=QTR_MT_GT.withColumn(\"CPG Code (PH 7)\",lit(None))\\\n",
    ".withColumn(\"CPG Name (PH 7)\",lit(None))\\\n",
    ".withColumn(\"Packsize\",lit(None))\\\n",
    ".withColumn(\"Line Level\",lit(None))\\\n",
    ".withColumn(\"Region\",lit(None))"
   ]
  },
  {
   "cell_type": "code",
   "execution_count": 16,
   "id": "d243d5fc",
   "metadata": {},
   "outputs": [
    {
     "name": "stdout",
     "output_type": "stream",
     "text": [
      "+----+-----+----+---------+-------+-------------+-------------------------+-------------------------------+-----------------+--------------------+-------------+---------+----------------+---------------+----------+----------------------+-----------+------------------+-------------+--------------+---------+----------+------------+-------------+--------------------+-----------+-------+--------+-------------+----------------------+--------------------------+--------------------+----------+---------------------------+------------+-------+-------------+-------------------+-----------------+---------------+---------------+--------+----------+------+\n",
      "|Year|Month|Week|Frequency|Cluster|Customer Name|WH Location or Store Name|Stock Location (WH or In Store)|Customer SKU Code|  UL SKU Description|    Barcode #|Item Type|         Packing|Unit of Measure|QOH(Value)|Stock on Hand Quantity|UL SKU Code|UL Master SKU Code|UL PC BarCode| UL CS BarCode|    UL BG|UL Small C|    UL Brand|  UL CPG code|         UL CPG Name|    UL Type|Pc/Case|Case/Ton|Stock in Tons|Avg monthly sales Tons|Net Avg monthly sales Tons|Avg Wkly  sales Tons|Wkly cover|Customer Code / Banner Code|Trade Format|Country|Price per UoM|Price Currency Code|     Store Format|CPG Code (PH 7)|CPG Name (PH 7)|Packsize|Line Level|Region|\n",
      "+----+-----+----+---------+-------+-------------+-------------------------+-------------------------------+-----------------+--------------------+-------------+---------+----------------+---------------+----------+----------------------+-----------+------------------+-------------+--------------+---------+----------+------------+-------------+--------------------+-----------+-------+--------+-------------+----------------------+--------------------------+--------------------+----------+---------------------------+------------+-------+-------------+-------------------+-----------------+---------------+---------------+--------+----------+------+\n",
      "|2022|   10|  43|  monthly|  Coops|  Union Coops|                  A Salma|                          Store|           564690|LUX DW(BENJI2) LE...|6281006593770|     null|1x(1250ml+750ml)|            PCS|      null|                 2.17 |   68833530|       M2104617700|6281006201880|06281006201897|HOME CARE|  DISHWASH|LUX PROGRESS|6A42A1I119404|LUX PROGRESS HDW ...|Promo Packs|      6|  65.053|     0.033306|                  null|                      null|                null|      null|                     125180|          MT|  Qatar|         null|               null|LARGE SUPERMARKET|           null|           null|    null|      null|  null|\n",
      "|2022|   10|  43|  monthly|  Coops|  Union Coops|                 Abu Hail|                          Store|           564690|LUX DW(BENJI2) LE...|6281006593770|     null|1x(1250ml+750ml)|            PCS|      null|                25.33 |   68833530|       M2104617700|6281006201880|06281006201897|HOME CARE|  DISHWASH|LUX PROGRESS|6A42A1I119404|LUX PROGRESS HDW ...|Promo Packs|      6|  65.053|     0.389424|                  null|                      null|                null|      null|                     125180|          MT|  Qatar|         null|               null|LARGE SUPERMARKET|           null|           null|    null|      null|  null|\n",
      "|2022|   10|  43|  monthly|  Coops|  Union Coops|                 Al Aweer|                          Store|           564690|LUX DW(BENJI2) LE...|6281006593770|     null|1x(1250ml+750ml)|            PCS|      null|                93.33 |   68833530|       M2104617700|6281006201880|06281006201897|HOME CARE|  DISHWASH|LUX PROGRESS|6A42A1I119404|LUX PROGRESS HDW ...|Promo Packs|      6|  65.053|      1.43472|                  null|                      null|                null|      null|                     125180|          MT|  Qatar|         null|               null|LARGE SUPERMARKET|           null|           null|    null|      null|  null|\n",
      "|2022|   10|  43|  monthly|  Coops|  Union Coops|          Al Barsha South|                          Store|           564690|LUX DW(BENJI2) LE...|6281006593770|     null|1x(1250ml+750ml)|            PCS|      null|                71.83 |   68833530|       M2104617700|6281006201880|06281006201897|HOME CARE|  DISHWASH|LUX PROGRESS|6A42A1I119404|LUX PROGRESS HDW ...|Promo Packs|      6|  65.053|     1.104222|                  null|                      null|                null|      null|                     125180|          MT|  Qatar|         null|               null|LARGE SUPERMARKET|           null|           null|    null|      null|  null|\n",
      "|2022|   10|  43|  monthly|  Coops|  Union Coops|                  Al Qouz|                          Store|           564690|LUX DW(BENJI2) LE...|6281006593770|     null|1x(1250ml+750ml)|            PCS|      null|                 0.67 |   68833530|       M2104617700|6281006201880|06281006201897|HOME CARE|  DISHWASH|LUX PROGRESS|6A42A1I119404|LUX PROGRESS HDW ...|Promo Packs|      6|  65.053|     0.010248|                  null|                      null|                null|      null|                     125180|          MT|  Qatar|         null|               null|LARGE SUPERMARKET|           null|           null|    null|      null|  null|\n",
      "|2022|   10|  43|  monthly|  Coops|  Union Coops|                   Al Tay|                          Store|           564690|LUX DW(BENJI2) LE...|6281006593770|     null|1x(1250ml+750ml)|            PCS|      null|                 0.33 |   68833530|       M2104617700|6281006201880|06281006201897|HOME CARE|  DISHWASH|LUX PROGRESS|6A42A1I119404|LUX PROGRESS HDW ...|Promo Packs|      6|  65.053|     0.005124|                  null|                      null|                null|      null|                     125180|          MT|  Qatar|         null|               null|LARGE SUPERMARKET|           null|           null|    null|      null|  null|\n",
      "|2022|   10|  43|  monthly|  Coops|  Union Coops|                 Al Towar|                          Store|           564690|LUX DW(BENJI2) LE...|6281006593770|     null|1x(1250ml+750ml)|            PCS|      null|                51.33 |   68833530|       M2104617700|6281006201880|06281006201897|HOME CARE|  DISHWASH|LUX PROGRESS|6A42A1I119404|LUX PROGRESS HDW ...|Promo Packs|      6|  65.053|     0.789096|                  null|                      null|                null|      null|                     125180|          MT|  Qatar|         null|               null|LARGE SUPERMARKET|           null|           null|    null|      null|  null|\n",
      "+----+-----+----+---------+-------+-------------+-------------------------+-------------------------------+-----------------+--------------------+-------------+---------+----------------+---------------+----------+----------------------+-----------+------------------+-------------+--------------+---------+----------+------------+-------------+--------------------+-----------+-------+--------+-------------+----------------------+--------------------------+--------------------+----------+---------------------------+------------+-------+-------------+-------------------+-----------------+---------------+---------------+--------+----------+------+\n",
      "\n"
     ]
    }
   ],
   "source": [
    "QTR_MT_GT.show()"
   ]
  },
  {
   "cell_type": "code",
   "execution_count": 17,
   "id": "18424ee0",
   "metadata": {},
   "outputs": [],
   "source": [
    "KSA_GT2=KSA_GT.select('Country','Trade Format','Year','Month','Week','Customer Code / Banner Code','Customer Name','Stock Location (WH or In Store)','WH Location or Store Name','Store Format','Region','UL SKU Code','UL SKU Description','CPG Code (PH 7)','CPG Name (PH 7)','Stock on Hand Quantity','Unit of Measure','Price per UoM','Price Currency Code','Packsize','Line Level')\n",
    "KSA_MT2=KSA_MT.select('Country','Trade Format','Year','Month','Week','Customer Code / Banner Code','Customer Name','Stock Location (WH or In Store)','WH Location or Store Name','Store Format','Region','UL SKU Code','UL SKU Description','CPG Code (PH 7)','CPG Name (PH 7)','Stock on Hand Quantity','Unit of Measure','Price per UoM','Price Currency Code','Packsize','Line Level')\n",
    "UAE_MT_GT2=UAE_MT_GT.select('Country','Trade Format','Year','Month','Week','Customer Code / Banner Code','Customer Name','Stock Location (WH or In Store)','WH Location or Store Name','Store Format','Region','UL SKU Code','UL SKU Description','CPG Code (PH 7)','CPG Name (PH 7)','Stock on Hand Quantity','Unit of Measure','Price per UoM','Price Currency Code','Packsize','Line Level')\n",
    "QTR_MT_GT2=QTR_MT_GT.select('Country','Trade Format','Year','Month','Week','Customer Code / Banner Code','Customer Name','Stock Location (WH or In Store)','WH Location or Store Name','Store Format','Region','UL SKU Code','UL SKU Description','CPG Code (PH 7)','CPG Name (PH 7)','Stock on Hand Quantity','Unit of Measure','Price per UoM','Price Currency Code','Packsize','Line Level')"
   ]
  },
  {
   "cell_type": "code",
   "execution_count": 18,
   "id": "bae97ac9",
   "metadata": {},
   "outputs": [],
   "source": [
    "lastoutput=KSA_GT2.union(KSA_MT2).union(UAE_MT_GT2).union(QTR_MT_GT2)"
   ]
  },
  {
   "cell_type": "code",
   "execution_count": 19,
   "id": "b6146f1f",
   "metadata": {},
   "outputs": [
    {
     "data": {
      "text/plain": [
       "1504"
      ]
     },
     "execution_count": 19,
     "metadata": {},
     "output_type": "execute_result"
    }
   ],
   "source": [
    "lastoutput.count()"
   ]
  },
  {
   "cell_type": "code",
   "execution_count": 20,
   "id": "b8c131dc",
   "metadata": {},
   "outputs": [],
   "source": [
    "lastoutput.toPandas().to_csv('end_lastoutput.csv', sep=';', header=True, index=False)"
   ]
  },
  {
   "cell_type": "code",
   "execution_count": 21,
   "id": "9850d8c4",
   "metadata": {},
   "outputs": [
    {
     "name": "stdout",
     "output_type": "stream",
     "text": [
      "+-------+------------+----+-----+----+---------------------------+-------------+-------------------------------+-------------------------+------------+------+-----------+------------------+---------------+---------------+----------------------+---------------+-------------+-------------------+--------+--------------------+\n",
      "|Country|Trade Format|Year|Month|Week|Customer Code / Banner Code|Customer Name|Stock Location (WH or In Store)|WH Location or Store Name|Store Format|Region|UL SKU Code|UL SKU Description|CPG Code (PH 7)|CPG Name (PH 7)|Stock on Hand Quantity|Unit of Measure|Price per UoM|Price Currency Code|Packsize|          Line Level|\n",
      "+-------+------------+----+-----+----+---------------------------+-------------+-------------------------------+-------------------------+------------+------+-----------+------------------+---------------+---------------+----------------------+---------------+-------------+-------------------+--------+--------------------+\n",
      "|    KSA|          GT|2022|    6|  27|                     610110|    ALGHONAIM|                             WH|                       WH|        null| South|       null|              null|              0|              0|                   288|             CS|         null|               null|       0|AXE MALE DEO AERO...|\n",
      "|    KSA|          GT|2022|    6|  27|                     610110|    ALGHONAIM|                             WH|                       WH|        null| South|       null|              null|              0|              0|                    55|             CS|         null|               null|       0|CLEAR MALE SHAMPO...|\n",
      "|    KSA|          GT|2022|    6|  27|                     610110|    ALGHONAIM|                             WH|                       WH|        null| South|       null|              null|              0|              0|                   199|             CS|         null|               null|       0|CLEAR MALE SHAMPO...|\n",
      "|    KSA|          GT|2022|    6|  27|                     610110|    ALGHONAIM|                             WH|                       WH|        null| South|       null|              null|              0|              0|                   119|             CS|         null|               null|       0|CLEAR MALE SHAMPO...|\n",
      "|    KSA|          GT|2022|    6|  27|                     610110|    ALGHONAIM|                             WH|                       WH|        null| South|       null|              null|              0|              0|                    10|             CS|         null|               null|       0|COMFORT RINSE CON...|\n",
      "|    KSA|          GT|2022|    6|  27|                     610110|    ALGHONAIM|                             WH|                       WH|        null| South|       null|              null|              0|              0|                    14|             CS|         null|               null|       0|COMFORT RINSE CON...|\n",
      "|    KSA|          GT|2022|    6|  27|                     610110|    ALGHONAIM|                             WH|                       WH|        null| South|       null|              null|              0|              0|                    29|             CS|         null|               null|       0|  DOVE SHAMPOO 200ML|\n",
      "|    KSA|          GT|2022|    6|  27|                     610110|    ALGHONAIM|                             WH|                       WH|        null| South|       null|              null|              0|              0|                   412|             CS|         null|               null|       0|  DOVE SHAMPOO 400ML|\n",
      "|    KSA|          GT|2022|    6|  27|                     610110|    ALGHONAIM|                             WH|                       WH|        null| South|       null|              null|              0|              0|                   144|             CS|         null|               null|       0|  DOVE SHAMPOO 600ML|\n",
      "|    KSA|          GT|2022|    6|  27|                     610110|    ALGHONAIM|                             WH|                       WH|        null| South|       null|              null|              0|              0|                    10|             CS|         null|               null|       0|DOVE BODY CREAM 1...|\n",
      "|    KSA|          GT|2022|    6|  27|                     610110|    ALGHONAIM|                             WH|                       WH|        null| South|       null|              null|              0|              0|                    10|             CS|         null|               null|       0|DOVE BODY CREAM 2...|\n",
      "|    KSA|          GT|2022|    6|  27|                     610110|    ALGHONAIM|                             WH|                       WH|        null| South|       null|              null|              0|              0|                    98|             CS|         null|               null|       0|DOVE BODY CREAM 75ML|\n",
      "|    KSA|          GT|2022|    6|  27|                     610110|    ALGHONAIM|                             WH|                       WH|        null| South|       null|              null|              0|              0|                   183|             CS|         null|               null|       0|DOVE DEO AERO AP ...|\n",
      "|    KSA|          GT|2022|    6|  27|                     610110|    ALGHONAIM|                             WH|                       WH|        null| South|       null|              null|              0|              0|                    90|             CS|         null|               null|       0|DOVE DEO ROLL-ON ...|\n",
      "|    KSA|          GT|2022|    6|  27|                     610110|    ALGHONAIM|                             WH|                       WH|        null| South|       null|              null|              0|              0|                    10|             CS|         null|               null|       0|DOVE DEO SOLID/CR...|\n",
      "|    KSA|          GT|2022|    6|  27|                     610110|    ALGHONAIM|                             WH|                       WH|        null| South|       null|              null|              0|              0|                    60|             CS|         null|               null|       0|DOVE SKIN CLEANSI...|\n",
      "|    KSA|          GT|2022|    6|  27|                     610110|    ALGHONAIM|                             WH|                       WH|        null| South|       null|              null|              0|              0|                   192|             CS|         null|               null|       0|DOVE SKIN CLEANSI...|\n",
      "|    KSA|          GT|2022|    6|  27|                     610110|    ALGHONAIM|                             WH|                       WH|        null| South|       null|              null|              0|              0|                     9|             CS|         null|               null|       0|DOVE SKIN CLEANSI...|\n",
      "|    KSA|          GT|2022|    6|  27|                     610110|    ALGHONAIM|                             WH|                       WH|        null| South|       null|              null|              0|              0|                   104|             CS|         null|               null|       0|FAIR&LOVELY FACE ...|\n",
      "|    KSA|          GT|2022|    6|  27|                     610110|    ALGHONAIM|                             WH|                       WH|        null| South|       null|              null|              0|              0|                    37|             CS|         null|               null|       0|FAIR&LOVELY FACE ...|\n",
      "+-------+------------+----+-----+----+---------------------------+-------------+-------------------------------+-------------------------+------------+------+-----------+------------------+---------------+---------------+----------------------+---------------+-------------+-------------------+--------+--------------------+\n",
      "only showing top 20 rows\n",
      "\n"
     ]
    }
   ],
   "source": [
    "lastoutput.show()"
   ]
  },
  {
   "cell_type": "code",
   "execution_count": null,
   "id": "12a44a2b",
   "metadata": {},
   "outputs": [],
   "source": []
  }
 ],
 "metadata": {
  "kernelspec": {
   "display_name": "Python 3 (ipykernel)",
   "language": "python",
   "name": "python3"
  },
  "language_info": {
   "codemirror_mode": {
    "name": "ipython",
    "version": 3
   },
   "file_extension": ".py",
   "mimetype": "text/x-python",
   "name": "python",
   "nbconvert_exporter": "python",
   "pygments_lexer": "ipython3",
   "version": "3.9.13"
  }
 },
 "nbformat": 4,
 "nbformat_minor": 5
}
