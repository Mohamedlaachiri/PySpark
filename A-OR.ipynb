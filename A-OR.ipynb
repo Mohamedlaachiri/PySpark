{
 "cells": [
  {
   "cell_type": "code",
   "execution_count": 1,
   "id": "23c465fa",
   "metadata": {},
   "outputs": [
    {
     "ename": "ValueError",
     "evalue": "Cannot run multiple SparkContexts at once; existing SparkContext(app=PySparkShell, master=local[*]) created by <module> at C:\\Users\\sg\\anaconda3\\lib\\site-packages\\IPython\\utils\\py3compat.py:168 ",
     "output_type": "error",
     "traceback": [
      "\u001b[1;31m---------------------------------------------------------------------------\u001b[0m",
      "\u001b[1;31mValueError\u001b[0m                                Traceback (most recent call last)",
      "\u001b[1;32m~\\AppData\\Local\\Temp\\ipykernel_11856\\3558929461.py\u001b[0m in \u001b[0;36m<module>\u001b[1;34m\u001b[0m\n\u001b[0;32m      3\u001b[0m \u001b[1;32mfrom\u001b[0m \u001b[0mpyspark\u001b[0m\u001b[1;33m.\u001b[0m\u001b[0msql\u001b[0m\u001b[1;33m.\u001b[0m\u001b[0mfunctions\u001b[0m \u001b[1;32mimport\u001b[0m \u001b[1;33m*\u001b[0m\u001b[1;33m\u001b[0m\u001b[1;33m\u001b[0m\u001b[0m\n\u001b[0;32m      4\u001b[0m \u001b[1;32mfrom\u001b[0m \u001b[0mpyspark\u001b[0m\u001b[1;33m.\u001b[0m\u001b[0msql\u001b[0m\u001b[1;33m.\u001b[0m\u001b[0mtypes\u001b[0m \u001b[1;32mimport\u001b[0m \u001b[1;33m*\u001b[0m\u001b[1;33m\u001b[0m\u001b[1;33m\u001b[0m\u001b[0m\n\u001b[1;32m----> 5\u001b[1;33m \u001b[0msc\u001b[0m \u001b[1;33m=\u001b[0m \u001b[0mSparkContext\u001b[0m\u001b[1;33m(\u001b[0m\u001b[1;34m'local'\u001b[0m\u001b[1;33m)\u001b[0m\u001b[1;33m\u001b[0m\u001b[1;33m\u001b[0m\u001b[0m\n\u001b[0m\u001b[0;32m      6\u001b[0m \u001b[0mspark\u001b[0m \u001b[1;33m=\u001b[0m \u001b[0mSparkSession\u001b[0m\u001b[1;33m(\u001b[0m\u001b[0msc\u001b[0m\u001b[1;33m)\u001b[0m\u001b[1;33m\u001b[0m\u001b[1;33m\u001b[0m\u001b[0m\n",
      "\u001b[1;32mC:\\BigDataLocalSetup\\spark\\python\\pyspark\\context.py\u001b[0m in \u001b[0;36m__init__\u001b[1;34m(self, master, appName, sparkHome, pyFiles, environment, batchSize, serializer, conf, gateway, jsc, profiler_cls, udf_profiler_cls, memory_profiler_cls)\u001b[0m\n\u001b[0;32m    196\u001b[0m             )\n\u001b[0;32m    197\u001b[0m \u001b[1;33m\u001b[0m\u001b[0m\n\u001b[1;32m--> 198\u001b[1;33m         \u001b[0mSparkContext\u001b[0m\u001b[1;33m.\u001b[0m\u001b[0m_ensure_initialized\u001b[0m\u001b[1;33m(\u001b[0m\u001b[0mself\u001b[0m\u001b[1;33m,\u001b[0m \u001b[0mgateway\u001b[0m\u001b[1;33m=\u001b[0m\u001b[0mgateway\u001b[0m\u001b[1;33m,\u001b[0m \u001b[0mconf\u001b[0m\u001b[1;33m=\u001b[0m\u001b[0mconf\u001b[0m\u001b[1;33m)\u001b[0m\u001b[1;33m\u001b[0m\u001b[1;33m\u001b[0m\u001b[0m\n\u001b[0m\u001b[0;32m    199\u001b[0m         \u001b[1;32mtry\u001b[0m\u001b[1;33m:\u001b[0m\u001b[1;33m\u001b[0m\u001b[1;33m\u001b[0m\u001b[0m\n\u001b[0;32m    200\u001b[0m             self._do_init(\n",
      "\u001b[1;32mC:\\BigDataLocalSetup\\spark\\python\\pyspark\\context.py\u001b[0m in \u001b[0;36m_ensure_initialized\u001b[1;34m(cls, instance, gateway, conf)\u001b[0m\n\u001b[0;32m    443\u001b[0m \u001b[1;33m\u001b[0m\u001b[0m\n\u001b[0;32m    444\u001b[0m                     \u001b[1;31m# Raise error if there is already a running Spark context\u001b[0m\u001b[1;33m\u001b[0m\u001b[1;33m\u001b[0m\u001b[0m\n\u001b[1;32m--> 445\u001b[1;33m                     raise ValueError(\n\u001b[0m\u001b[0;32m    446\u001b[0m                         \u001b[1;34m\"Cannot run multiple SparkContexts at once; \"\u001b[0m\u001b[1;33m\u001b[0m\u001b[1;33m\u001b[0m\u001b[0m\n\u001b[0;32m    447\u001b[0m                         \u001b[1;34m\"existing SparkContext(app=%s, master=%s)\"\u001b[0m\u001b[1;33m\u001b[0m\u001b[1;33m\u001b[0m\u001b[0m\n",
      "\u001b[1;31mValueError\u001b[0m: Cannot run multiple SparkContexts at once; existing SparkContext(app=PySparkShell, master=local[*]) created by <module> at C:\\Users\\sg\\anaconda3\\lib\\site-packages\\IPython\\utils\\py3compat.py:168 "
     ]
    }
   ],
   "source": [
    "from pyspark.context import SparkContext\n",
    "from pyspark.sql.session import SparkSession\n",
    "from pyspark.sql.functions import *\n",
    "from pyspark.sql.types import *\n",
    "sc = SparkContext('local')\n",
    "spark = SparkSession(sc)"
   ]
  },
  {
   "cell_type": "code",
   "execution_count": null,
   "id": "fc0f84e8",
   "metadata": {},
   "outputs": [],
   "source": []
  },
  {
   "cell_type": "code",
   "execution_count": 2,
   "id": "3df8d796",
   "metadata": {},
   "outputs": [],
   "source": [
    "# source pathed \n",
    "matches_week1_path=\"matches - week1.xlsx\"\n",
    "matches_week2_path=\"matches - week2.xlsx\"\n",
    "matches_week3_path=\"matches - week3.xlsx\"\n",
    "matches_week4_path=\"matches - week4.xlsx\""
   ]
  },
  {
   "cell_type": "code",
   "execution_count": null,
   "id": "23730a34",
   "metadata": {},
   "outputs": [],
   "source": []
  },
  {
   "cell_type": "code",
   "execution_count": null,
   "id": "c0e5a848",
   "metadata": {},
   "outputs": [],
   "source": []
  },
  {
   "cell_type": "code",
   "execution_count": null,
   "id": "83af4137",
   "metadata": {},
   "outputs": [],
   "source": []
  },
  {
   "cell_type": "code",
   "execution_count": null,
   "id": "c02b29c1",
   "metadata": {},
   "outputs": [],
   "source": []
  },
  {
   "cell_type": "code",
   "execution_count": 8,
   "id": "1ac4dcc5",
   "metadata": {},
   "outputs": [],
   "source": [
    "# #loading data \n",
    "# matches_week1= spark.read.format(\"matches - week1.xlsx\").option(\"read.spark.useHeader\", \"true\") \n",
    "# matches_week2= spark.read.format(\"matches - week2.xlsx\").option(\"read.spark.useHeader\", \"true\") \n",
    "# matches_week3= spark.read.format(\"matches - week3.xlsx\").option(\"read.spark.useHeader\", \"true\")\n",
    "# matches_week4= spark.read.format(\"matches - week4.xlsx\").option(\"read.spark.useHeader\", \"true\")"
   ]
  },
  {
   "cell_type": "code",
   "execution_count": 3,
   "id": "be0fd4ae",
   "metadata": {
    "scrolled": false
   },
   "outputs": [],
   "source": [
    "matches_week1= spark.read.format(\"com.crealytics.spark.excel\").options(header=\"True\",delimiter=\",\").load(matches_week1_path) \n",
    "matches_week2= spark.read.format(\"com.crealytics.spark.excel\").options(header=\"True\",delimiter=\",\").load(matches_week2_path) \n",
    "matches_week3= spark.read.format(\"com.crealytics.spark.excel\").options(header=\"True\",delimiter=\",\").load(matches_week3_path)\n",
    "matches_week4= spark.read.format(\"com.crealytics.spark.excel\").options(header=\"True\",delimiter=\",\").load(matches_week4_path)"
   ]
  },
  {
   "cell_type": "code",
   "execution_count": 4,
   "id": "7386f033",
   "metadata": {},
   "outputs": [],
   "source": [
    "#drop nulls rows \n",
    "matches_week1=matches_week1.na.drop(\"all\")\n",
    "matches_week2=matches_week2.na.drop(\"all\")\n",
    "matches_week3=matches_week3.na.drop(\"all\")\n",
    "matches_week4=matches_week4.na.drop(\"all\")"
   ]
  },
  {
   "cell_type": "code",
   "execution_count": 5,
   "id": "795dbacb",
   "metadata": {},
   "outputs": [
    {
     "name": "stdout",
     "output_type": "stream",
     "text": [
      "249 249 349 340\n"
     ]
    }
   ],
   "source": [
    "print(matches_week1.count()\n",
    ",matches_week2.count()\n",
    ",matches_week3.count()\n",
    ",matches_week4.count())"
   ]
  },
  {
   "cell_type": "code",
   "execution_count": null,
   "id": "8f2895f4",
   "metadata": {},
   "outputs": [],
   "source": [
    "#matches_week1 trans\n",
    "matches_week1=matches_week1.withColumn(\"notes\",lit(None))"
   ]
  },
  {
   "cell_type": "code",
   "execution_count": 6,
   "id": "ccb24cf5",
   "metadata": {},
   "outputs": [
    {
     "name": "stdout",
     "output_type": "stream",
     "text": [
      "+--------+-----+--------------+------------+---+-----+------+---+---+--------------+---+---+----+----------+---------------+---------+---------------+------------+-----+---+---+----+---+---+-----+------+---------------+\n",
      "|    date| time|          comp|       round|day|venue|result| gf| ga|      opponent| xg|xga|poss|attendance|        captain|formation|        referee|match report|notes| sh|sot|dist| fk| pk|pkatt|season|           team|\n",
      "+--------+-----+--------------+------------+---+-----+------+---+---+--------------+---+---+----+----------+---------------+---------+---------------+------------+-----+---+---+----+---+---+-----+------+---------------+\n",
      "| 8/15/21|16:30|Premier League| Matchweek 1|Sun| Away|     L|  0|  1|     Tottenham|1.9|1.3|  64|     58262|    Fernandinho|   3/4/03| Anthony Taylor|Match Report| null| 18|  4|16.9|  1|  0|    0|  2022|Manchester City|\n",
      "| 8/21/21|15:00|Premier League| Matchweek 2|Sat| Home|     W|  5|  0|  Norwich City|2.7|0.1|  67|     51437| İlkay Gündoğan|   3/4/03|   Graham Scott|Match Report| null| 16|  4|17.3|  1|  0|    0|  2022|Manchester City|\n",
      "| 8/28/21|12:30|Premier League| Matchweek 3|Sat| Home|     W|  5|  0|       Arsenal|3.8|0.1|  80|     52276| İlkay Gündoğan|   3/4/03|Martin Atkinson|Match Report| null| 25| 10|14.3|  0|  0|    0|  2022|Manchester City|\n",
      "| 9/11/21|15:00|Premier League| Matchweek 4|Sat| Away|     W|  1|  0|Leicester City|2.9|0.8|  61|     32087| İlkay Gündoğan|   3/4/03|   Paul Tierney|Match Report| null| 25|  8|  14|  0|  0|    0|  2022|Manchester City|\n",
      "| 9/18/21|15:00|Premier League| Matchweek 5|Sat| Home|     D|  0|  0|   Southampton|1.1|0.4|  63|     52698|    Fernandinho|   3/4/03|  Jonathan Moss|Match Report| null| 16|  1|15.7|  1|  0|    0|  2022|Manchester City|\n",
      "| 9/25/21|12:30|Premier League| Matchweek 6|Sat| Away|     W|  1|  0|       Chelsea|1.7|0.3|  60|     40036|     Rúben Dias|   3/4/03| Michael Oliver|Match Report| null| 15|  3|16.5|  0|  0|    0|  2022|Manchester City|\n",
      "| 10/3/21|16:30|Premier League| Matchweek 7|Sun| Away|     D|  2|  2|     Liverpool|1.2|  1|  51|     53102|     Rúben Dias|   3/4/03|   Paul Tierney|Match Report| null| 12|  3|16.8|  1|  0|    0|  2022|Manchester City|\n",
      "|10/16/21|15:00|Premier League| Matchweek 8|Sat| Home|     W|  2|  0|       Burnley|1.9|  1|  69|     52711|Kevin De Bruyne|   3/4/03|Martin Atkinson|Match Report| null| 16|  6|14.6|  0|  0|    0|  2022|Manchester City|\n",
      "|10/23/21|17:30|Premier League| Matchweek 9|Sat| Away|     W|  4|  1|      Brighton|3.9|1.3|  52|     31215| İlkay Gündoğan|   3/4/03|   Kevin Friend|Match Report| null| 23| 13|15.7|  1|  0|    0|  2022|Manchester City|\n",
      "|10/30/21|15:00|Premier League|Matchweek 10|Sat| Home|     L|  0|  2|Crystal Palace|1.1|1.1|  68|     53014|     Rúben Dias|   3/4/03| Andre Marriner|Match Report| null| 14|  3|  17|  0|  0|    0|  2022|Manchester City|\n",
      "| 11/6/21|12:30|Premier League|Matchweek 11|Sat| Away|     W|  2|  0|Manchester Utd|  2|0.6|  67|     73086| İlkay Gündoğan|   3/4/03| Michael Oliver|Match Report| null| 16|  5|14.6|  0|  0|    0|  2022|Manchester City|\n",
      "|11/21/21|14:00|Premier League|Matchweek 12|Sun| Home|     W|  3|  0|       Everton|2.3|0.3|  76|     52571| İlkay Gündoğan|   3/4/03| Stuart Attwell|Match Report| null| 17|  7|15.4|  1|  0|    0|  2022|Manchester City|\n",
      "|11/28/21|14:00|Premier League|Matchweek 13|Sun| Home|     W|  2|  1|      West Ham|2.1|0.2|  67|     53245| İlkay Gündoğan|   3/4/03| Michael Oliver|Match Report| null| 19|  8|14.8|  0|  0|    0|  2022|Manchester City|\n",
      "| 12/1/21|20:15|Premier League|Matchweek 14|Wed| Away|     W|  2|  1|   Aston Villa|0.9|0.9|  64|     41400|    Fernandinho|  4-2-3-1|      Mike Dean|Match Report| null| 17|  7|  19|  1|  0|    0|  2022|Manchester City|\n",
      "| 12/4/21|17:30|Premier League|Matchweek 15|Sat| Away|     W|  3|  1|       Watford|3.6|0.7|  76|     20673| İlkay Gündoğan|   3/4/03|   Simon Hooper|Match Report| null| 26| 12|  14|  0|  0|    0|  2022|Manchester City|\n",
      "|12/11/21|12:30|Premier League|Matchweek 16|Sat| Home|     W|  1|  0|        Wolves|3.5|0.2|  71|     52613| İlkay Gündoğan|   3/4/03|  Jonathan Moss|Match Report| null| 23|  8|15.2|  0|  1|    1|  2022|Manchester City|\n",
      "|12/14/21|20:00|Premier League|Matchweek 17|Tue| Home|     W|  7|  0|  Leeds United|3.6|0.2|  64|     52401|     Rúben Dias|   3/4/03|   Paul Tierney|Match Report| null| 31| 15|16.2|  2|  0|    0|  2022|Manchester City|\n",
      "|12/19/21|14:15|Premier League|Matchweek 18|Sun| Away|     W|  4|  0| Newcastle Utd|3.1|0.4|  71|     52127|     Rúben Dias|   3/4/03|Martin Atkinson|Match Report| null| 18|  7|11.8|  0|  0|    0|  2022|Manchester City|\n",
      "|12/26/21|15:00|Premier League|Matchweek 19|Sun| Home|     W|  6|  3|Leicester City|3.4|2.4|  72|     53226|    Fernandinho|   3/4/03| Chris Kavanagh|Match Report| null| 15|  6|16.6|  1|  2|    2|  2022|Manchester City|\n",
      "|12/29/21|20:15|Premier League|Matchweek 20|Wed| Away|     W|  1|  0|     Brentford|0.8|0.3|  76|     17009|    Fernandinho|   3/4/03|    David Coote|Match Report| null| 12|  4|18.7|  0|  0|    0|  2022|Manchester City|\n",
      "+--------+-----+--------------+------------+---+-----+------+---+---+--------------+---+---+----+----------+---------------+---------+---------------+------------+-----+---+---+----+---+---+-----+------+---------------+\n",
      "only showing top 20 rows\n",
      "\n"
     ]
    }
   ],
   "source": [
    "matches_week1.show()"
   ]
  },
  {
   "cell_type": "code",
   "execution_count": 14,
   "id": "1a23459c",
   "metadata": {},
   "outputs": [],
   "source": [
    "#matches_week2 trans\n",
    "matches_week2=matches_week2.withColumnRenamed('possibility ','poss')\\\n",
    ".withColumnRenamed('attend','attendance')\\\n",
    ".withColumnRenamed('captain player ','captain')"
   ]
  },
  {
   "cell_type": "code",
   "execution_count": null,
   "id": "6ab72e17",
   "metadata": {},
   "outputs": [],
   "source": [
    "matches_week2=matches_week2.withColumn(\"notes\",lit(None))"
   ]
  },
  {
   "cell_type": "code",
   "execution_count": 15,
   "id": "8de8943c",
   "metadata": {},
   "outputs": [
    {
     "name": "stdout",
     "output_type": "stream",
     "text": [
      "+--------+-----+--------------+------------+---+-----+------+---+---+---------------+---+---+----+----------+-----------------+---------+---------------+------------+-----+---+---+----+---+---+-----+------+----------------+\n",
      "|    date| time|          comp|       round|day|venue|result| gf| ga|       opponent| xg|xga|poss|attendance|          captain|formation|        referee|match report|notes| sh|sot|dist| fk| pk|pkatt|season|            team|\n",
      "+--------+-----+--------------+------------+---+-----+------+---+---+---------------+---+---+----+----------+-----------------+---------+---------------+------------+-----+---+---+----+---+---+-----+------+----------------+\n",
      "|12/19/21|14:15|Premier League|Matchweek 18|Sun| Home|     L|  0|  4|Manchester City|0.4|3.1|  29|     52127| Jamaal Lascelles|  4-1-4-1|Martin Atkinson|Match Report| null|  5|  1|17.5|  0|  0|    0|  2022|Newcastle United|\n",
      "|12/27/21|20:00|Premier League|Matchweek 19|Mon| Home|     D|  1|  1| Manchester Utd|1.1|1.2|  33|     52178| Jamaal Lascelles|   5/4/01|   Craig Pawson|Match Report| null| 13|  8|  21|  0|  0|    0|  2022|Newcastle United|\n",
      "| 1/15/22|15:00|Premier League|Matchweek 22|Sat| Home|     D|  1|  1|        Watford|1.4|1.3|  53|     52223| Jamaal Lascelles|   3/4/03|   Paul Tierney|Match Report| null| 12|  1|13.9|  0|  0|    0|  2022|Newcastle United|\n",
      "| 1/22/22|15:00|Premier League|Matchweek 23|Sat| Away|     W|  1|  0|   Leeds United|1.1|  1|  37|     36405| Jamaal Lascelles|   3/4/03| Chris Kavanagh|Match Report| null| 15|  3|18.4|  1|  0|    0|  2022|Newcastle United|\n",
      "|  2/8/22|19:45|Premier League|Matchweek 24|Tue| Home|     W|  3|  1|        Everton|2.2|0.6|  39|     52186| Jamaal Lascelles|   3/4/03| Anthony Taylor|Match Report| null| 20|  8|13.2|  1|  0|    0|  2022|Newcastle United|\n",
      "| 2/13/22|14:00|Premier League|Matchweek 25|Sun| Home|     W|  1|  0|    Aston Villa|0.5|0.4|  37|     52207|  Kieran Trippier|   3/4/03|   Craig Pawson|Match Report| null| 10|  2|19.8|  1|  0|    0|  2022|Newcastle United|\n",
      "| 2/19/22|12:30|Premier League|Matchweek 26|Sat| Away|     D|  1|  1|       West Ham|0.7|0.6|  53|     59949|    Jonjo Shelvey|   3/4/03| Chris Kavanagh|Match Report| null| 14|  3|15.5|  0|  0|    0|  2022|Newcastle United|\n",
      "| 2/26/22|15:00|Premier League|Matchweek 27|Sat| Away|     W|  2|  0|      Brentford|2.4|0.3|  62|     17039|    Jonjo Shelvey|   3/4/03|      Mike Dean|Match Report| null| 26| 11|15.3|  2|  0|    0|  2022|Newcastle United|\n",
      "|  3/5/22|15:00|Premier League|Matchweek 28|Sat| Home|     W|  2|  1|       Brighton|1.6|1.3|  32|     52214|    Jonjo Shelvey|   3/4/03|Martin Atkinson|Match Report| null| 10|  4|11.8|  0|  0|    0|  2022|Newcastle United|\n",
      "| 3/10/22|19:30|Premier League|Matchweek 21|Thu| Away|     W|  2|  1|    Southampton|0.6|1.3|  33|     30056|    Jonjo Shelvey|   3/4/03|   Kevin Friend|Match Report| null|  8|  3|  15|  0|  0|    0|  2022|Newcastle United|\n",
      "| 3/13/22|14:00|Premier League|Matchweek 29|Sun| Away|     L|  0|  1|        Chelsea|0.2|0.8|  29|     40026| Jamaal Lascelles|   4/3/03|    David Coote|Match Report| null|  7|  2|18.3|  0|  0|    0|  2022|Newcastle United|\n",
      "| 3/17/22|19:45|Premier League|Matchweek 20|Thu| Away|     L|  0|  1|        Everton|  1|0.6|  60|     39068|     Fabian Schär|   3/4/03|   Craig Pawson|Match Report| null| 17|  6|20.3|  1|  0|    0|  2022|Newcastle United|\n",
      "|  4/3/22|16:30|Premier League|Matchweek 31|Sun| Away|     L|  1|  5|      Tottenham|0.6|3.1|  39|     57553|    Jonjo Shelvey|   3/4/03|Martin Atkinson|Match Report| null|  8|  1|  17|  1|  0|    0|  2022|Newcastle United|\n",
      "|  4/8/22|20:00|Premier League|Matchweek 32|Fri| Home|     W|  1|  0|         Wolves|1.6|0.3|  42|     52164|    Jonjo Shelvey|   3/4/03|   Peter Bankes|Match Report| null| 11|  3|19.2|  1|  1|    1|  2022|Newcastle United|\n",
      "| 4/17/22|14:15|Premier League|Matchweek 33|Sun| Home|     W|  2|  1| Leicester City|1.4|0.6|  33|     52104|    Jonjo Shelvey|   3/4/03| Jarred Gillett|Match Report| null| 15|  6|15.3|  1|  0|    0|  2022|Newcastle United|\n",
      "| 4/20/22|19:45|Premier League|Matchweek 30|Wed| Home|     W|  1|  0| Crystal Palace|0.9|0.6|  37|     51938|    Jonjo Shelvey|   3/4/03|Tony Harrington|Match Report| null| 13|  4|17.3|  0|  0|    0|  2022|Newcastle United|\n",
      "| 4/23/22|15:00|Premier League|Matchweek 34|Sat| Away|     W|  3|  0|   Norwich City|2.5|0.7|  54|     26910| Jamaal Lascelles|   3/4/03| Chris Kavanagh|Match Report| null| 13|  7|14.3|  0|  0|    0|  2022|Newcastle United|\n",
      "| 8/14/21|15:00|Premier League| Matchweek 1|Sat| Home|     W|  1|  0|         Wolves|0.8|1.1|  57|     31983|Kasper Schmeichel|  4-2-3-1|   Craig Pawson|Match Report| null|  9|  5|  17|  0|  0|    0|  2022|  Leicester City|\n",
      "| 8/23/21|20:00|Premier League| Matchweek 2|Mon| Away|     L|  1|  4|       West Ham|0.8|2.5|  47|     59901|Kasper Schmeichel|  4-2-3-1| Michael Oliver|Match Report| null|  5|  1|14.6|  0|  0|    0|  2022|  Leicester City|\n",
      "| 8/28/21|15:00|Premier League| Matchweek 3|Sat| Away|     W|  2|  1|   Norwich City|1.3|1.6|  55|     26765|Kasper Schmeichel|   4/4/02|   Robert Jones|Match Report| null|  9|  3|  16|  0|  0|    0|  2022|  Leicester City|\n",
      "+--------+-----+--------------+------------+---+-----+------+---+---+---------------+---+---+----+----------+-----------------+---------+---------------+------------+-----+---+---+----+---+---+-----+------+----------------+\n",
      "only showing top 20 rows\n",
      "\n"
     ]
    }
   ],
   "source": [
    "matches_week2.show()"
   ]
  },
  {
   "cell_type": "code",
   "execution_count": 16,
   "id": "67017219",
   "metadata": {},
   "outputs": [],
   "source": [
    "#matches_week3 trans\n",
    "matches_week3=matches_week3.withColumnRenamed('oppo','opponent')\\\n",
    ".withColumnRenamed('report','match report')\\\n",
    ".withColumnRenamed('playing season','season')"
   ]
  },
  {
   "cell_type": "code",
   "execution_count": null,
   "id": "325f63f5",
   "metadata": {},
   "outputs": [],
   "source": [
    "matches_week3=matches_week3.withColumn(\"notes\",lit(None))"
   ]
  },
  {
   "cell_type": "code",
   "execution_count": 17,
   "id": "ace7a4bd",
   "metadata": {},
   "outputs": [
    {
     "name": "stdout",
     "output_type": "stream",
     "text": [
      "+--------+-----+--------------+------------+---+-----+------+---+---+---------------+---+---+----+----------+----------------+---------+---------------+------------+-----+---+---+----+---+---+-----+------+-----------------+\n",
      "|    date| time|          comp|       round|day|venue|result| gf| ga|       opponent| xg|xga|poss|attendance|         captain|formation|        referee|match report|notes| sh|sot|dist| fk| pk|pkatt|season|             team|\n",
      "+--------+-----+--------------+------------+---+-----+------+---+---+---------------+---+---+----+----------+----------------+---------+---------------+------------+-----+---+---+----+---+---+-----+------+-----------------+\n",
      "| 4/25/21|14:00|Premier League|Matchweek 33|Sun| Away|     D|  0|  0|   Leeds United|1.3|0.4|  54|      null|   Harry Maguire|  4-2-3-1|   Craig Pawson|Match Report| null| 16|  4|17.8|  3|  0|    0|  2021|Manchester United|\n",
      "|  5/9/21|14:05|Premier League|Matchweek 35|Sun| Away|     W|  3|  1|    Aston Villa|1.8|0.5|  59|      null|   Harry Maguire|  4-2-3-1| Chris Kavanagh|Match Report| null| 17|  6|20.4|  0|  1|    1|  2021|Manchester United|\n",
      "| 5/11/21|18:00|Premier League|Matchweek 36|Tue| Home|     L|  1|  2| Leicester City|0.4|0.7|  53|      null|   Nemanja Matić|  4-2-3-1|   Craig Pawson|Match Report| null|  4|  1|10.6|  0|  0|    0|  2021|Manchester United|\n",
      "| 5/13/21|20:15|Premier League|Matchweek 34|Thu| Home|     L|  2|  4|      Liverpool|  2|2.6|  53|      null| Bruno Fernandes|  4-2-3-1| Anthony Taylor|Match Report| null| 17|  2|14.6|  1|  0|    0|  2021|Manchester United|\n",
      "| 5/18/21|18:00|Premier League|Matchweek 37|Tue| Home|     D|  1|  1|         Fulham|1.1|0.8|  57|     10000| Bruno Fernandes|  4-2-3-1|      Lee Mason|Match Report| null| 13|  6|21.5|  2|  0|    0|  2021|Manchester United|\n",
      "| 5/23/21|16:00|Premier League|Matchweek 38|Sun| Away|     W|  2|  1|         Wolves|1.7|0.9|  44|      4500|   Nemanja Matić|  4-2-3-1|      Mike Dean|Match Report| null|  9|  3|18.8|  0|  1|    1|  2021|Manchester United|\n",
      "| 9/12/20|17:30|Premier League| Matchweek 1|Sat| Home|     W|  4|  3|   Leeds United|3.3|0.6|  50|      null|Jordan Henderson|   3/4/03| Michael Oliver|Match Report| null| 20|  4|  17|  0|  2|    2|  2021|        Liverpool|\n",
      "| 9/20/20|16:30|Premier League| Matchweek 2|Sun| Away|     W|  2|  0|        Chelsea|2.6|  1|  61|      null|Jordan Henderson|   3/4/03|   Paul Tierney|Match Report| null| 17|  5|17.7|  1|  0|    0|  2021|        Liverpool|\n",
      "| 9/28/20|20:00|Premier League| Matchweek 3|Mon| Home|     W|  3|  1|        Arsenal|3.2|1.2|  67|      null| Virgil van Dijk|   3/4/03|   Craig Pawson|Match Report| null| 21|  9|16.8|  0|  0|    0|  2021|        Liverpool|\n",
      "| 10/4/20|19:15|Premier League| Matchweek 4|Sun| Away|     L|  2|  7|    Aston Villa|1.8|3.9|  69|      null| Virgil van Dijk|   3/4/03|Martin Atkinson|Match Report| null| 14|  8|15.8|  1|  0|    0|  2021|        Liverpool|\n",
      "|10/17/20|12:30|Premier League| Matchweek 5|Sat| Away|     D|  2|  2|        Everton|2.2|1.3|  57|      null|Jordan Henderson|   3/4/03| Michael Oliver|Match Report| null| 22|  8|  15|  1|  0|    0|  2021|        Liverpool|\n",
      "|10/24/20|20:00|Premier League| Matchweek 6|Sat| Home|     W|  2|  1|  Sheffield Utd|2.5|1.5|  61|      null|Jordan Henderson|  4-2-3-1|      Mike Dean|Match Report| null| 17|  5|18.2|  1|  0|    0|  2021|        Liverpool|\n",
      "|10/31/20|17:30|Premier League| Matchweek 7|Sat| Home|     W|  2|  1|       West Ham|1.8|0.5|  73|      null|Jordan Henderson|   3/4/03|   Kevin Friend|Match Report| null|  8|  2|18.6|  1|  1|    1|  2021|        Liverpool|\n",
      "| 11/8/20|16:30|Premier League| Matchweek 8|Sun| Away|     D|  1|  1|Manchester City|1.4|1.6|  46|      null|Jordan Henderson|  4-2-3-1|   Craig Pawson|Match Report| null|  9|  2|21.5|  0|  1|    1|  2021|        Liverpool|\n",
      "|11/22/20|19:15|Premier League| Matchweek 9|Sun| Home|     W|  3|  0| Leicester City|3.7|1.3|  56|      null|    James Milner|   3/4/03| Chris Kavanagh|Match Report| null| 24| 12|11.9|  0|  0|    0|  2021|        Liverpool|\n",
      "|11/28/20|12:30|Premier League|Matchweek 10|Sat| Away|     D|  1|  1|       Brighton|0.5|2.1|  60|      null|    James Milner|   3/4/03| Stuart Attwell|Match Report| null|  6|  2|20.9|  0|  0|    0|  2021|        Liverpool|\n",
      "| 12/6/20|19:15|Premier League|Matchweek 11|Sun| Home|     W|  4|  0|         Wolves|1.2|0.5|  61|      2000|Jordan Henderson|   3/4/03|   Craig Pawson|Match Report| null| 11|  6|16.6|  1|  0|    0|  2021|        Liverpool|\n",
      "|12/13/20|16:30|Premier League|Matchweek 12|Sun| Away|     D|  1|  1|         Fulham|2.1|1.5|  74|      2000|Jordan Henderson|   3/4/03| Andre Marriner|Match Report| null| 11|  5|  20|  1|  1|    1|  2021|        Liverpool|\n",
      "|12/16/20|20:00|Premier League|Matchweek 13|Wed| Home|     W|  2|  1|      Tottenham|1.2|1.3|  75|      2000|Jordan Henderson|   3/4/03| Anthony Taylor|Match Report| null| 17| 11|15.5|  0|  0|    0|  2021|        Liverpool|\n",
      "|12/19/20|12:30|Premier League|Matchweek 14|Sat| Away|     W|  7|  0| Crystal Palace|2.1|0.3|  64|      null|Jordan Henderson|   3/4/03|  Jonathan Moss|Match Report| null| 14|  7|13.2|  1|  0|    0|  2021|        Liverpool|\n",
      "+--------+-----+--------------+------------+---+-----+------+---+---+---------------+---+---+----+----------+----------------+---------+---------------+------------+-----+---+---+----+---+---+-----+------+-----------------+\n",
      "only showing top 20 rows\n",
      "\n"
     ]
    }
   ],
   "source": [
    "matches_week3.show()"
   ]
  },
  {
   "cell_type": "code",
   "execution_count": 20,
   "id": "50995edd",
   "metadata": {},
   "outputs": [],
   "source": [
    "#matches_week4 trans\n",
    "matches_week4=matches_week4.withColumnRenamed('round number ','round')\\\n",
    ".withColumnRenamed('goal for ','gf')\\\n",
    ".withColumnRenamed('goal against ','ga')"
   ]
  },
  {
   "cell_type": "code",
   "execution_count": null,
   "id": "fec8184f",
   "metadata": {},
   "outputs": [],
   "source": [
    "matches_week4=matches_week4.withColumn(\"notes\",lit(None))"
   ]
  },
  {
   "cell_type": "code",
   "execution_count": 21,
   "id": "75b83cb6",
   "metadata": {},
   "outputs": [
    {
     "name": "stdout",
     "output_type": "stream",
     "text": [
      "+--------+-----+--------------+------------+---+-----+------+---+---+---------------+---+---+----+----------+------------------+---------+--------------+------------+-----+---+---+----+---+---+-----+------+----------------+\n",
      "|    date| time|          comp|       round|day|venue|result| gf| ga|       opponent| xg|xga|poss|attendance|           captain|formation|       referee|match report|notes| sh|sot|dist| fk| pk|pkatt|season|            team|\n",
      "+--------+-----+--------------+------------+---+-----+------+---+---+---------------+---+---+----+----------+------------------+---------+--------------+------------+-----+---+---+----+---+---+-----+------+----------------+\n",
      "| 9/27/20|14:00|Premier League| Matchweek 3|Sun| Away|     D|  1|  1|      Tottenham|  1|2.3|  34|      null|  Jamaal Lascelles|   4/3/03|  Peter Bankes|Match Report| null|  5|  0|19.1|  0|  1|    1|  2021|Newcastle United|\n",
      "| 10/3/20|20:00|Premier League| Matchweek 4|Sat| Home|     W|  3|  1|        Burnley|  2|0.6|  48|      null|     Jonjo Shelvey|   4/4/02|   David Coote|Match Report| null|  9|  4|19.4|  0|  1|    1|  2021|Newcastle United|\n",
      "|10/17/20|20:00|Premier League| Matchweek 5|Sat| Home|     L|  1|  4| Manchester Utd|0.5|2.7|  37|      null|  Jamaal Lascelles|  4-1-4-1|  Craig Pawson|Match Report| null|  7|  4|19.1|  0|  0|    0|  2021|Newcastle United|\n",
      "|10/25/20|16:30|Premier League| Matchweek 6|Sun| Away|     D|  1|  1|         Wolves|0.2|0.7|  37|      null|  Jamaal Lascelles|   5/3/02|     Lee Mason|Match Report| null|  5|  2|20.9|  1|  0|    0|  2021|Newcastle United|\n",
      "| 11/1/20|14:00|Premier League| Matchweek 7|Sun| Home|     W|  2|  1|        Everton|2.5|1.2|  38|      null|  Jamaal Lascelles|   5/3/02|Stuart Attwell|Match Report| null|  9|  3|16.9|  0|  1|    1|  2021|Newcastle United|\n",
      "| 11/6/20|20:00|Premier League| Matchweek 8|Fri| Away|     L|  0|  2|    Southampton|0.5|0.9|  39|      null|  Jamaal Lascelles|   5/3/02|  Peter Bankes|Match Report| null|  4|  2|13.1|  1|  0|    0|  2021|Newcastle United|\n",
      "|11/21/20|12:30|Premier League| Matchweek 9|Sat| Home|     L|  0|  2|        Chelsea|0.6|1.6|  29|      null|  Jamaal Lascelles|   4/3/03|  Craig Pawson|Match Report| null|  8|  1|24.4|  0|  0|    0|  2021|Newcastle United|\n",
      "|11/27/20|20:00|Premier League|Matchweek 10|Fri| Away|     W|  2|  0| Crystal Palace|1.5|  1|  43|      null|     Jonjo Shelvey|   4/4/02|  Graham Scott|Match Report| null| 14|  7|17.5|  2|  0|    0|  2021|Newcastle United|\n",
      "|12/12/20|15:00|Premier League|Matchweek 12|Sat| Home|     W|  2|  1|      West Brom|1.1|0.6|  45|      null|     Jonjo Shelvey|   4/4/02|Darren England|Match Report| null| 12|  6|15.9|  0|  0|    0|  2021|Newcastle United|\n",
      "|12/16/20|18:00|Premier League|Matchweek 13|Wed| Away|     L|  2|  5|   Leeds United|0.9|2.8|  32|      null|Federico Fernández|   4/4/02|  Simon Hooper|Match Report| null|  9|  4|  13|  1|  0|    0|  2021|Newcastle United|\n",
      "|12/19/20|20:00|Premier League|Matchweek 14|Sat| Home|     D|  1|  1|         Fulham|1.4|0.7|  49|      null|     Jonjo Shelvey|   4/4/02|  Graham Scott|Match Report| null| 10|  4|21.8|  2|  1|    1|  2021|Newcastle United|\n",
      "|12/26/20|20:00|Premier League|Matchweek 15|Sat| Away|     L|  0|  2|Manchester City|0.3|1.8|  25|      null|Federico Fernández|   4/3/03|Andre Marriner|Match Report| null|  8|  2|19.3|  0|  0|    0|  2021|Newcastle United|\n",
      "|12/30/20|20:00|Premier League|Matchweek 16|Wed| Home|     D|  0|  0|      Liverpool|0.3|1.1|  28|      null|Federico Fernández|   4/3/03|  Paul Tierney|Match Report| null|  8|  2|16.8|  0|  0|    0|  2021|Newcastle United|\n",
      "|  1/3/21|14:15|Premier League|Matchweek 17|Sun| Home|     L|  1|  2| Leicester City|0.2|0.9|  45|      null|Federico Fernández|   4/3/03|  Robert Jones|Match Report| null|  8|  2|14.3|  0|  0|    0|  2021|Newcastle United|\n",
      "| 1/12/21|18:00|Premier League|Matchweek 18|Tue| Away|     L|  0|  1|  Sheffield Utd|0.5|1.8|  35|      null|Federico Fernández|   4/3/03|   Andy Madley|Match Report| null|  7|  3|  22|  2|  0|    0|  2021|Newcastle United|\n",
      "| 1/18/21|20:00|Premier League|Matchweek 19|Mon| Away|     L|  0|  3|        Arsenal|0.2|2.8|  34|      null|  Jamaal Lascelles|   4/4/02|   David Coote|Match Report| null|  4|  1|17.4|  0|  0|    0|  2021|Newcastle United|\n",
      "| 1/23/21|20:00|Premier League|Matchweek 11|Sat| Away|     L|  0|  2|    Aston Villa|0.6|1.8|  42|      null|  Jamaal Lascelles|   5/3/02|  Simon Hooper|Match Report| null|  7|  0|13.4|  0|  0|    0|  2021|Newcastle United|\n",
      "| 1/26/21|18:00|Premier League|Matchweek 20|Tue| Home|     L|  1|  2|   Leeds United|1.4|0.9|  43|      null|  Jamaal Lascelles|  4-4-1-1|Anthony Taylor|Match Report| null| 22|  5|21.1|  4|  0|    0|  2021|Newcastle United|\n",
      "| 1/30/21|12:30|Premier League|Matchweek 21|Sat| Away|     W|  2|  0|        Everton|1.8|  1|  41|      null|  Jamaal Lascelles|   4-4-2◆|Stuart Attwell|Match Report| null| 13|  3|16.5|  2|  0|    0|  2021|Newcastle United|\n",
      "|  2/2/21|20:15|Premier League|Matchweek 22|Tue| Home|     L|  1|  2| Crystal Palace|1.8|0.9|  61|      null|     Jonjo Shelvey|   4-4-2◆|Darren England|Match Report| null| 21|  5|15.4|  1|  0|    0|  2021|Newcastle United|\n",
      "+--------+-----+--------------+------------+---+-----+------+---+---+---------------+---+---+----+----------+------------------+---------+--------------+------------+-----+---+---+----+---+---+-----+------+----------------+\n",
      "only showing top 20 rows\n",
      "\n"
     ]
    }
   ],
   "source": [
    "matches_week4.show()"
   ]
  },
  {
   "cell_type": "code",
   "execution_count": 22,
   "id": "0737c52d",
   "metadata": {},
   "outputs": [],
   "source": [
    "trans_matches_week1=matches_week1.select('date','time','comp','round','day','venue','result','gf','ga','opponent','xg','xga','poss','attendance','captain','formation','referee','match report','notes','sh','sot','dist','fk','pk','pkatt','season','team')\n",
    "trans_matches_week2=matches_week2.select('date','time','comp','round','day','venue','result','gf','ga','opponent','xg','xga','poss','attendance','captain','formation','referee','match report','notes','sh','sot','dist','fk','pk','pkatt','season','team')\n",
    "trans_matches_week3=matches_week3.select('date','time','comp','round','day','venue','result','gf','ga','opponent','xg','xga','poss','attendance','captain','formation','referee','match report','notes','sh','sot','dist','fk','pk','pkatt','season','team')\n",
    "trans_matches_week4=matches_week4.select('date','time','comp','round','day','venue','result','gf','ga','opponent','xg','xga','poss','attendance','captain','formation','referee','match report','notes','sh','sot','dist','fk','pk','pkatt','season','team')"
   ]
  },
  {
   "cell_type": "code",
   "execution_count": 23,
   "id": "2f880c53",
   "metadata": {},
   "outputs": [],
   "source": [
    "lastoutput=trans_matches_week1.union(trans_matches_week2).union(trans_matches_week3).union(trans_matches_week4)"
   ]
  },
  {
   "cell_type": "code",
   "execution_count": 24,
   "id": "044715f4",
   "metadata": {},
   "outputs": [
    {
     "data": {
      "text/plain": [
       "1187"
      ]
     },
     "execution_count": 24,
     "metadata": {},
     "output_type": "execute_result"
    }
   ],
   "source": [
    "lastoutput.count()"
   ]
  },
  {
   "cell_type": "code",
   "execution_count": 25,
   "id": "f58c1b42",
   "metadata": {},
   "outputs": [],
   "source": [
    "lastoutput.toPandas().to_csv('end_lastoutput.csv', sep=',', header=True, index=False)"
   ]
  },
  {
   "cell_type": "code",
   "execution_count": 26,
   "id": "ee1a5776",
   "metadata": {},
   "outputs": [],
   "source": [
    "lastoutput.write.format(\"com.crealytics.spark.excel\").option(\"header\", \"true\").save(\"output.xlsx\")\n"
   ]
  },
  {
   "cell_type": "code",
   "execution_count": null,
   "id": "d7466c96",
   "metadata": {},
   "outputs": [],
   "source": []
  },
  {
   "cell_type": "code",
   "execution_count": null,
   "id": "abceed07",
   "metadata": {},
   "outputs": [],
   "source": []
  }
 ],
 "metadata": {
  "kernelspec": {
   "display_name": "Python 3 (ipykernel)",
   "language": "python",
   "name": "python3"
  },
  "language_info": {
   "codemirror_mode": {
    "name": "ipython",
    "version": 3
   },
   "file_extension": ".py",
   "mimetype": "text/x-python",
   "name": "python",
   "nbconvert_exporter": "python",
   "pygments_lexer": "ipython3",
   "version": "3.9.13"
  }
 },
 "nbformat": 4,
 "nbformat_minor": 5
}
